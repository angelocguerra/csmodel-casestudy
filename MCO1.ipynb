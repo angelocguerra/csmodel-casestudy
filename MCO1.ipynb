{
 "cells": [
  {
   "cell_type": "markdown",
   "id": "3c1d6bb6",
   "metadata": {},
   "source": [
    "# CSMODEL Case Study - Phase 1\n",
    "\n",
    "### Members:\n",
    "- Angelo Guerra\n",
    "- Adrian Yung Cheng\n",
    "- Mark Daniel Gutierrez\n",
    "- Alina Sayo\n",
    "\n",
    "**Section**: S15\n",
    "\n",
    "**Instructor**: Mr. Gabriel Avelino Sampedro\n",
    "\n",
    "In this notebook, we will be using the **[Spotify Top Hits from 2000-2019](https://www.kaggle.com/datasets/paradisejoy/top-hits-spotify-from-20002019/data)** Dataset. The notebook will cover an analysis of the raw dataset and various processes to extract meaningful insights and conclusions from the data.\n"
   ]
  },
  {
   "cell_type": "markdown",
   "id": "0fc268ac",
   "metadata": {},
   "source": [
    "## Importing Libraries\n",
    "\n",
    "First, import the necessary libraries to perform data operation throughout this notebook:"
   ]
  },
  {
   "cell_type": "code",
   "execution_count": 1,
   "id": "420f3c21",
   "metadata": {},
   "outputs": [],
   "source": [
    "import numpy as np\n",
    "import pandas as pd\n",
    "import seaborn as sb\n",
    "import matplotlib.pyplot as plt\n",
    "\n",
    "plt.style.use(\"seaborn-v0_8-darkgrid\")"
   ]
  },
  {
   "cell_type": "markdown",
   "id": "557e6c97",
   "metadata": {},
   "source": [
    "* **Numpy** - Numpy is a software library for Python designed for working with arrays and encompassing functions related to linear algebra, fourier transforms, and matrices.\n",
    "* **Pandas** - Pandas is a software library for Python designed for data manipulation and data analysis.\n",
    "*  **Matplotlib** - Matplotlib is a software library for data visualization for Python, allowing us to easily render various types of graphs.\n",
    "* **Seaborn** - Seaborn is a software library for data visualization for Python designed to create attractive and informative statistical graphics, making it easier to make complex visualizations compared to using Matplotlib alone."
   ]
  },
  {
   "cell_type": "markdown",
   "id": "60bdbf91",
   "metadata": {},
   "source": [
    "## Dataset Description\n",
    "\n",
    "### Brief Description\n",
    "\n",
    "The dataset used throughout this notebook consists of a `.csv` file containing audio statistics of the top 2000 tracks from 2000-2019 on Spotify, a global audio streaming service. The data contains information about each track and its qualities, including the song artist, year it was released, popularity rate, and various characteristics. The dataset takes advantage of Spotify's huge collection of music to create a useful resource which could help those who want to statistically assess and analyze the platform's top hits from the past two decades."
   ]
  },
  {
   "cell_type": "markdown",
   "id": "8f68b2ff",
   "metadata": {},
   "source": [
    "### Collection Process\n",
    "\n",
    "The dataset **[Top Hits Spotify 2000-2019](https://www.kaggle.com/datasets/paradisejoy/top-hits-spotify-from-20002019/data)** was collected from a popular digital music streaming service called Spotify and was posted on Kaggle by user Mark Koverha. This dataset draws from Spotify’s extensive music catalog to create a comprehensive resource. Spotify has created multiple playlists for the top hits of each year. The data was then extracted from these playlists and Koverha collected it using the `Spotipy` library for Python.\n",
    "\n",
    "Currently, Spotify provides a publicly available API. The Spotify Web API and the `Spotipy` Python library were utilized to gather track informaton to compile the dataset."
   ]
  },
  {
   "cell_type": "markdown",
   "id": "c658943e",
   "metadata": {},
   "source": [
    "### Dataset File Structure\n",
    "\n",
    "Each entry in the dataset is part of the top 2000 hit songs released during the year 2000 until 2019. On the other hand, each column represents a single component of the track that would detail its qualities, such as its artist name, title, and many other aspects, with a total of eighteen (18) specific variables to account for. There are a total of **2000 entries** and **18 variables** in the dataset."
   ]
  },
  {
   "cell_type": "markdown",
   "id": "b919b04f",
   "metadata": {},
   "source": [
    "The `read_csv()` function of the pandas library, in this case, is used to assign the dataset to a properly-usable variable in Python. The `info()` function, on the other hand, is used to display the general information about the dataset itself.\n",
    "\n",
    "Now, let us load the data from the `songs_normalize.csv` file using the `read_csv` function and assign the resulting dataframe to the variable `spotify_df`. Then, we can use the `info` function to display a quick summary of how the data is structured."
   ]
  },
  {
   "cell_type": "code",
   "execution_count": 2,
   "id": "4b547a5f",
   "metadata": {
    "scrolled": true
   },
   "outputs": [
    {
     "name": "stdout",
     "output_type": "stream",
     "text": [
      "<class 'pandas.core.frame.DataFrame'>\n",
      "RangeIndex: 2000 entries, 0 to 1999\n",
      "Data columns (total 18 columns):\n",
      " #   Column            Non-Null Count  Dtype  \n",
      "---  ------            --------------  -----  \n",
      " 0   artist            2000 non-null   object \n",
      " 1   song              2000 non-null   object \n",
      " 2   duration_ms       2000 non-null   int64  \n",
      " 3   explicit          2000 non-null   bool   \n",
      " 4   year              2000 non-null   int64  \n",
      " 5   popularity        2000 non-null   int64  \n",
      " 6   danceability      2000 non-null   float64\n",
      " 7   energy            2000 non-null   float64\n",
      " 8   key               2000 non-null   int64  \n",
      " 9   loudness          2000 non-null   float64\n",
      " 10  mode              2000 non-null   int64  \n",
      " 11  speechiness       2000 non-null   float64\n",
      " 12  acousticness      2000 non-null   float64\n",
      " 13  instrumentalness  2000 non-null   float64\n",
      " 14  liveness          2000 non-null   float64\n",
      " 15  valence           2000 non-null   float64\n",
      " 16  tempo             2000 non-null   float64\n",
      " 17  genre             2000 non-null   object \n",
      "dtypes: bool(1), float64(9), int64(5), object(3)\n",
      "memory usage: 267.7+ KB\n"
     ]
    }
   ],
   "source": [
    "spotify_df = pd.read_csv('songs_normalize.csv')\n",
    "spotify_df.info()"
   ]
  },
  {
   "cell_type": "markdown",
   "id": "1cef4c41",
   "metadata": {},
   "source": [
    "The `shape` function determines the dimensions of the dataframe (dataset) by getting the number of entries (rows) and variables (columns) and displaying them in a 2-tuple."
   ]
  },
  {
   "cell_type": "code",
   "execution_count": 3,
   "id": "f6240ccf",
   "metadata": {},
   "outputs": [
    {
     "data": {
      "text/plain": [
       "(2000, 18)"
      ]
     },
     "execution_count": 3,
     "metadata": {},
     "output_type": "execute_result"
    }
   ],
   "source": [
    "spotify_df.shape"
   ]
  },
  {
   "cell_type": "markdown",
   "id": "03df8a35",
   "metadata": {},
   "source": [
    "Based on the code execution above, there are indeed **2000** entries and **18** variables present in the dataset.\n",
    "\n",
    "We can then use the `describe()` function to provide a statistical description of the dataset and its variables that contain numerical data, which includes the count, mean, standard deviation, quartiles, and minimum/maximum values."
   ]
  },
  {
   "cell_type": "code",
   "execution_count": 4,
   "id": "85ff6c1d",
   "metadata": {
    "scrolled": false
   },
   "outputs": [
    {
     "data": {
      "text/html": [
       "<div>\n",
       "<style scoped>\n",
       "    .dataframe tbody tr th:only-of-type {\n",
       "        vertical-align: middle;\n",
       "    }\n",
       "\n",
       "    .dataframe tbody tr th {\n",
       "        vertical-align: top;\n",
       "    }\n",
       "\n",
       "    .dataframe thead th {\n",
       "        text-align: right;\n",
       "    }\n",
       "</style>\n",
       "<table border=\"1\" class=\"dataframe\">\n",
       "  <thead>\n",
       "    <tr style=\"text-align: right;\">\n",
       "      <th></th>\n",
       "      <th>duration_ms</th>\n",
       "      <th>year</th>\n",
       "      <th>popularity</th>\n",
       "      <th>danceability</th>\n",
       "      <th>energy</th>\n",
       "      <th>key</th>\n",
       "      <th>loudness</th>\n",
       "      <th>mode</th>\n",
       "      <th>speechiness</th>\n",
       "      <th>acousticness</th>\n",
       "      <th>instrumentalness</th>\n",
       "      <th>liveness</th>\n",
       "      <th>valence</th>\n",
       "      <th>tempo</th>\n",
       "    </tr>\n",
       "  </thead>\n",
       "  <tbody>\n",
       "    <tr>\n",
       "      <th>count</th>\n",
       "      <td>2000.000000</td>\n",
       "      <td>2000.00000</td>\n",
       "      <td>2000.000000</td>\n",
       "      <td>2000.000000</td>\n",
       "      <td>2000.000000</td>\n",
       "      <td>2000.000000</td>\n",
       "      <td>2000.000000</td>\n",
       "      <td>2000.000000</td>\n",
       "      <td>2000.000000</td>\n",
       "      <td>2000.000000</td>\n",
       "      <td>2000.000000</td>\n",
       "      <td>2000.000000</td>\n",
       "      <td>2000.000000</td>\n",
       "      <td>2000.000000</td>\n",
       "    </tr>\n",
       "    <tr>\n",
       "      <th>mean</th>\n",
       "      <td>228748.124500</td>\n",
       "      <td>2009.49400</td>\n",
       "      <td>59.872500</td>\n",
       "      <td>0.667438</td>\n",
       "      <td>0.720366</td>\n",
       "      <td>5.378000</td>\n",
       "      <td>-5.512434</td>\n",
       "      <td>0.553500</td>\n",
       "      <td>0.103568</td>\n",
       "      <td>0.128955</td>\n",
       "      <td>0.015226</td>\n",
       "      <td>0.181216</td>\n",
       "      <td>0.551690</td>\n",
       "      <td>120.122558</td>\n",
       "    </tr>\n",
       "    <tr>\n",
       "      <th>std</th>\n",
       "      <td>39136.569008</td>\n",
       "      <td>5.85996</td>\n",
       "      <td>21.335577</td>\n",
       "      <td>0.140416</td>\n",
       "      <td>0.152745</td>\n",
       "      <td>3.615059</td>\n",
       "      <td>1.933482</td>\n",
       "      <td>0.497254</td>\n",
       "      <td>0.096159</td>\n",
       "      <td>0.173346</td>\n",
       "      <td>0.087771</td>\n",
       "      <td>0.140669</td>\n",
       "      <td>0.220864</td>\n",
       "      <td>26.967112</td>\n",
       "    </tr>\n",
       "    <tr>\n",
       "      <th>min</th>\n",
       "      <td>113000.000000</td>\n",
       "      <td>1998.00000</td>\n",
       "      <td>0.000000</td>\n",
       "      <td>0.129000</td>\n",
       "      <td>0.054900</td>\n",
       "      <td>0.000000</td>\n",
       "      <td>-20.514000</td>\n",
       "      <td>0.000000</td>\n",
       "      <td>0.023200</td>\n",
       "      <td>0.000019</td>\n",
       "      <td>0.000000</td>\n",
       "      <td>0.021500</td>\n",
       "      <td>0.038100</td>\n",
       "      <td>60.019000</td>\n",
       "    </tr>\n",
       "    <tr>\n",
       "      <th>25%</th>\n",
       "      <td>203580.000000</td>\n",
       "      <td>2004.00000</td>\n",
       "      <td>56.000000</td>\n",
       "      <td>0.581000</td>\n",
       "      <td>0.622000</td>\n",
       "      <td>2.000000</td>\n",
       "      <td>-6.490250</td>\n",
       "      <td>0.000000</td>\n",
       "      <td>0.039600</td>\n",
       "      <td>0.014000</td>\n",
       "      <td>0.000000</td>\n",
       "      <td>0.088100</td>\n",
       "      <td>0.386750</td>\n",
       "      <td>98.985750</td>\n",
       "    </tr>\n",
       "    <tr>\n",
       "      <th>50%</th>\n",
       "      <td>223279.500000</td>\n",
       "      <td>2010.00000</td>\n",
       "      <td>65.500000</td>\n",
       "      <td>0.676000</td>\n",
       "      <td>0.736000</td>\n",
       "      <td>6.000000</td>\n",
       "      <td>-5.285000</td>\n",
       "      <td>1.000000</td>\n",
       "      <td>0.059850</td>\n",
       "      <td>0.055700</td>\n",
       "      <td>0.000000</td>\n",
       "      <td>0.124000</td>\n",
       "      <td>0.557500</td>\n",
       "      <td>120.021500</td>\n",
       "    </tr>\n",
       "    <tr>\n",
       "      <th>75%</th>\n",
       "      <td>248133.000000</td>\n",
       "      <td>2015.00000</td>\n",
       "      <td>73.000000</td>\n",
       "      <td>0.764000</td>\n",
       "      <td>0.839000</td>\n",
       "      <td>8.000000</td>\n",
       "      <td>-4.167750</td>\n",
       "      <td>1.000000</td>\n",
       "      <td>0.129000</td>\n",
       "      <td>0.176250</td>\n",
       "      <td>0.000068</td>\n",
       "      <td>0.241000</td>\n",
       "      <td>0.730000</td>\n",
       "      <td>134.265500</td>\n",
       "    </tr>\n",
       "    <tr>\n",
       "      <th>max</th>\n",
       "      <td>484146.000000</td>\n",
       "      <td>2020.00000</td>\n",
       "      <td>89.000000</td>\n",
       "      <td>0.975000</td>\n",
       "      <td>0.999000</td>\n",
       "      <td>11.000000</td>\n",
       "      <td>-0.276000</td>\n",
       "      <td>1.000000</td>\n",
       "      <td>0.576000</td>\n",
       "      <td>0.976000</td>\n",
       "      <td>0.985000</td>\n",
       "      <td>0.853000</td>\n",
       "      <td>0.973000</td>\n",
       "      <td>210.851000</td>\n",
       "    </tr>\n",
       "  </tbody>\n",
       "</table>\n",
       "</div>"
      ],
      "text/plain": [
       "         duration_ms        year   popularity  danceability       energy  \\\n",
       "count    2000.000000  2000.00000  2000.000000   2000.000000  2000.000000   \n",
       "mean   228748.124500  2009.49400    59.872500      0.667438     0.720366   \n",
       "std     39136.569008     5.85996    21.335577      0.140416     0.152745   \n",
       "min    113000.000000  1998.00000     0.000000      0.129000     0.054900   \n",
       "25%    203580.000000  2004.00000    56.000000      0.581000     0.622000   \n",
       "50%    223279.500000  2010.00000    65.500000      0.676000     0.736000   \n",
       "75%    248133.000000  2015.00000    73.000000      0.764000     0.839000   \n",
       "max    484146.000000  2020.00000    89.000000      0.975000     0.999000   \n",
       "\n",
       "               key     loudness         mode  speechiness  acousticness  \\\n",
       "count  2000.000000  2000.000000  2000.000000  2000.000000   2000.000000   \n",
       "mean      5.378000    -5.512434     0.553500     0.103568      0.128955   \n",
       "std       3.615059     1.933482     0.497254     0.096159      0.173346   \n",
       "min       0.000000   -20.514000     0.000000     0.023200      0.000019   \n",
       "25%       2.000000    -6.490250     0.000000     0.039600      0.014000   \n",
       "50%       6.000000    -5.285000     1.000000     0.059850      0.055700   \n",
       "75%       8.000000    -4.167750     1.000000     0.129000      0.176250   \n",
       "max      11.000000    -0.276000     1.000000     0.576000      0.976000   \n",
       "\n",
       "       instrumentalness     liveness      valence        tempo  \n",
       "count       2000.000000  2000.000000  2000.000000  2000.000000  \n",
       "mean           0.015226     0.181216     0.551690   120.122558  \n",
       "std            0.087771     0.140669     0.220864    26.967112  \n",
       "min            0.000000     0.021500     0.038100    60.019000  \n",
       "25%            0.000000     0.088100     0.386750    98.985750  \n",
       "50%            0.000000     0.124000     0.557500   120.021500  \n",
       "75%            0.000068     0.241000     0.730000   134.265500  \n",
       "max            0.985000     0.853000     0.973000   210.851000  "
      ]
     },
     "execution_count": 4,
     "metadata": {},
     "output_type": "execute_result"
    }
   ],
   "source": [
    "spotify_df.describe()"
   ]
  },
  {
   "cell_type": "markdown",
   "id": "a52ba8ae",
   "metadata": {},
   "source": [
    "By calling the `head()` function of the pandas library, the program will now display the first 5 (default value) rows/entries of the dataset. "
   ]
  },
  {
   "cell_type": "code",
   "execution_count": 5,
   "id": "89c5f2a8",
   "metadata": {},
   "outputs": [
    {
     "data": {
      "text/html": [
       "<div>\n",
       "<style scoped>\n",
       "    .dataframe tbody tr th:only-of-type {\n",
       "        vertical-align: middle;\n",
       "    }\n",
       "\n",
       "    .dataframe tbody tr th {\n",
       "        vertical-align: top;\n",
       "    }\n",
       "\n",
       "    .dataframe thead th {\n",
       "        text-align: right;\n",
       "    }\n",
       "</style>\n",
       "<table border=\"1\" class=\"dataframe\">\n",
       "  <thead>\n",
       "    <tr style=\"text-align: right;\">\n",
       "      <th></th>\n",
       "      <th>artist</th>\n",
       "      <th>song</th>\n",
       "      <th>duration_ms</th>\n",
       "      <th>explicit</th>\n",
       "      <th>year</th>\n",
       "      <th>popularity</th>\n",
       "      <th>danceability</th>\n",
       "      <th>energy</th>\n",
       "      <th>key</th>\n",
       "      <th>loudness</th>\n",
       "      <th>mode</th>\n",
       "      <th>speechiness</th>\n",
       "      <th>acousticness</th>\n",
       "      <th>instrumentalness</th>\n",
       "      <th>liveness</th>\n",
       "      <th>valence</th>\n",
       "      <th>tempo</th>\n",
       "      <th>genre</th>\n",
       "    </tr>\n",
       "  </thead>\n",
       "  <tbody>\n",
       "    <tr>\n",
       "      <th>0</th>\n",
       "      <td>Britney Spears</td>\n",
       "      <td>Oops!...I Did It Again</td>\n",
       "      <td>211160</td>\n",
       "      <td>False</td>\n",
       "      <td>2000</td>\n",
       "      <td>77</td>\n",
       "      <td>0.751</td>\n",
       "      <td>0.834</td>\n",
       "      <td>1</td>\n",
       "      <td>-5.444</td>\n",
       "      <td>0</td>\n",
       "      <td>0.0437</td>\n",
       "      <td>0.3000</td>\n",
       "      <td>0.000018</td>\n",
       "      <td>0.3550</td>\n",
       "      <td>0.894</td>\n",
       "      <td>95.053</td>\n",
       "      <td>pop</td>\n",
       "    </tr>\n",
       "    <tr>\n",
       "      <th>1</th>\n",
       "      <td>blink-182</td>\n",
       "      <td>All The Small Things</td>\n",
       "      <td>167066</td>\n",
       "      <td>False</td>\n",
       "      <td>1999</td>\n",
       "      <td>79</td>\n",
       "      <td>0.434</td>\n",
       "      <td>0.897</td>\n",
       "      <td>0</td>\n",
       "      <td>-4.918</td>\n",
       "      <td>1</td>\n",
       "      <td>0.0488</td>\n",
       "      <td>0.0103</td>\n",
       "      <td>0.000000</td>\n",
       "      <td>0.6120</td>\n",
       "      <td>0.684</td>\n",
       "      <td>148.726</td>\n",
       "      <td>rock, pop</td>\n",
       "    </tr>\n",
       "    <tr>\n",
       "      <th>2</th>\n",
       "      <td>Faith Hill</td>\n",
       "      <td>Breathe</td>\n",
       "      <td>250546</td>\n",
       "      <td>False</td>\n",
       "      <td>1999</td>\n",
       "      <td>66</td>\n",
       "      <td>0.529</td>\n",
       "      <td>0.496</td>\n",
       "      <td>7</td>\n",
       "      <td>-9.007</td>\n",
       "      <td>1</td>\n",
       "      <td>0.0290</td>\n",
       "      <td>0.1730</td>\n",
       "      <td>0.000000</td>\n",
       "      <td>0.2510</td>\n",
       "      <td>0.278</td>\n",
       "      <td>136.859</td>\n",
       "      <td>pop, country</td>\n",
       "    </tr>\n",
       "    <tr>\n",
       "      <th>3</th>\n",
       "      <td>Bon Jovi</td>\n",
       "      <td>It's My Life</td>\n",
       "      <td>224493</td>\n",
       "      <td>False</td>\n",
       "      <td>2000</td>\n",
       "      <td>78</td>\n",
       "      <td>0.551</td>\n",
       "      <td>0.913</td>\n",
       "      <td>0</td>\n",
       "      <td>-4.063</td>\n",
       "      <td>0</td>\n",
       "      <td>0.0466</td>\n",
       "      <td>0.0263</td>\n",
       "      <td>0.000013</td>\n",
       "      <td>0.3470</td>\n",
       "      <td>0.544</td>\n",
       "      <td>119.992</td>\n",
       "      <td>rock, metal</td>\n",
       "    </tr>\n",
       "    <tr>\n",
       "      <th>4</th>\n",
       "      <td>*NSYNC</td>\n",
       "      <td>Bye Bye Bye</td>\n",
       "      <td>200560</td>\n",
       "      <td>False</td>\n",
       "      <td>2000</td>\n",
       "      <td>65</td>\n",
       "      <td>0.614</td>\n",
       "      <td>0.928</td>\n",
       "      <td>8</td>\n",
       "      <td>-4.806</td>\n",
       "      <td>0</td>\n",
       "      <td>0.0516</td>\n",
       "      <td>0.0408</td>\n",
       "      <td>0.001040</td>\n",
       "      <td>0.0845</td>\n",
       "      <td>0.879</td>\n",
       "      <td>172.656</td>\n",
       "      <td>pop</td>\n",
       "    </tr>\n",
       "  </tbody>\n",
       "</table>\n",
       "</div>"
      ],
      "text/plain": [
       "           artist                    song  duration_ms  explicit  year  \\\n",
       "0  Britney Spears  Oops!...I Did It Again       211160     False  2000   \n",
       "1       blink-182    All The Small Things       167066     False  1999   \n",
       "2      Faith Hill                 Breathe       250546     False  1999   \n",
       "3        Bon Jovi            It's My Life       224493     False  2000   \n",
       "4          *NSYNC             Bye Bye Bye       200560     False  2000   \n",
       "\n",
       "   popularity  danceability  energy  key  loudness  mode  speechiness  \\\n",
       "0          77         0.751   0.834    1    -5.444     0       0.0437   \n",
       "1          79         0.434   0.897    0    -4.918     1       0.0488   \n",
       "2          66         0.529   0.496    7    -9.007     1       0.0290   \n",
       "3          78         0.551   0.913    0    -4.063     0       0.0466   \n",
       "4          65         0.614   0.928    8    -4.806     0       0.0516   \n",
       "\n",
       "   acousticness  instrumentalness  liveness  valence    tempo         genre  \n",
       "0        0.3000          0.000018    0.3550    0.894   95.053           pop  \n",
       "1        0.0103          0.000000    0.6120    0.684  148.726     rock, pop  \n",
       "2        0.1730          0.000000    0.2510    0.278  136.859  pop, country  \n",
       "3        0.0263          0.000013    0.3470    0.544  119.992   rock, metal  \n",
       "4        0.0408          0.001040    0.0845    0.879  172.656           pop  "
      ]
     },
     "execution_count": 5,
     "metadata": {},
     "output_type": "execute_result"
    }
   ],
   "source": [
    "spotify_df.head()"
   ]
  },
  {
   "cell_type": "markdown",
   "id": "f8308eeb",
   "metadata": {},
   "source": [
    "To display the last 5 (default value) rows of the dataset, the `tail()` function will be used."
   ]
  },
  {
   "cell_type": "code",
   "execution_count": 6,
   "id": "d9992879",
   "metadata": {
    "scrolled": true
   },
   "outputs": [
    {
     "data": {
      "text/html": [
       "<div>\n",
       "<style scoped>\n",
       "    .dataframe tbody tr th:only-of-type {\n",
       "        vertical-align: middle;\n",
       "    }\n",
       "\n",
       "    .dataframe tbody tr th {\n",
       "        vertical-align: top;\n",
       "    }\n",
       "\n",
       "    .dataframe thead th {\n",
       "        text-align: right;\n",
       "    }\n",
       "</style>\n",
       "<table border=\"1\" class=\"dataframe\">\n",
       "  <thead>\n",
       "    <tr style=\"text-align: right;\">\n",
       "      <th></th>\n",
       "      <th>artist</th>\n",
       "      <th>song</th>\n",
       "      <th>duration_ms</th>\n",
       "      <th>explicit</th>\n",
       "      <th>year</th>\n",
       "      <th>popularity</th>\n",
       "      <th>danceability</th>\n",
       "      <th>energy</th>\n",
       "      <th>key</th>\n",
       "      <th>loudness</th>\n",
       "      <th>mode</th>\n",
       "      <th>speechiness</th>\n",
       "      <th>acousticness</th>\n",
       "      <th>instrumentalness</th>\n",
       "      <th>liveness</th>\n",
       "      <th>valence</th>\n",
       "      <th>tempo</th>\n",
       "      <th>genre</th>\n",
       "    </tr>\n",
       "  </thead>\n",
       "  <tbody>\n",
       "    <tr>\n",
       "      <th>1995</th>\n",
       "      <td>Jonas Brothers</td>\n",
       "      <td>Sucker</td>\n",
       "      <td>181026</td>\n",
       "      <td>False</td>\n",
       "      <td>2019</td>\n",
       "      <td>79</td>\n",
       "      <td>0.842</td>\n",
       "      <td>0.734</td>\n",
       "      <td>1</td>\n",
       "      <td>-5.065</td>\n",
       "      <td>0</td>\n",
       "      <td>0.0588</td>\n",
       "      <td>0.0427</td>\n",
       "      <td>0.000000</td>\n",
       "      <td>0.1060</td>\n",
       "      <td>0.952</td>\n",
       "      <td>137.958</td>\n",
       "      <td>pop</td>\n",
       "    </tr>\n",
       "    <tr>\n",
       "      <th>1996</th>\n",
       "      <td>Taylor Swift</td>\n",
       "      <td>Cruel Summer</td>\n",
       "      <td>178426</td>\n",
       "      <td>False</td>\n",
       "      <td>2019</td>\n",
       "      <td>78</td>\n",
       "      <td>0.552</td>\n",
       "      <td>0.702</td>\n",
       "      <td>9</td>\n",
       "      <td>-5.707</td>\n",
       "      <td>1</td>\n",
       "      <td>0.1570</td>\n",
       "      <td>0.1170</td>\n",
       "      <td>0.000021</td>\n",
       "      <td>0.1050</td>\n",
       "      <td>0.564</td>\n",
       "      <td>169.994</td>\n",
       "      <td>pop</td>\n",
       "    </tr>\n",
       "    <tr>\n",
       "      <th>1997</th>\n",
       "      <td>Blanco Brown</td>\n",
       "      <td>The Git Up</td>\n",
       "      <td>200593</td>\n",
       "      <td>False</td>\n",
       "      <td>2019</td>\n",
       "      <td>69</td>\n",
       "      <td>0.847</td>\n",
       "      <td>0.678</td>\n",
       "      <td>9</td>\n",
       "      <td>-8.635</td>\n",
       "      <td>1</td>\n",
       "      <td>0.1090</td>\n",
       "      <td>0.0669</td>\n",
       "      <td>0.000000</td>\n",
       "      <td>0.2740</td>\n",
       "      <td>0.811</td>\n",
       "      <td>97.984</td>\n",
       "      <td>hip hop, country</td>\n",
       "    </tr>\n",
       "    <tr>\n",
       "      <th>1998</th>\n",
       "      <td>Sam Smith</td>\n",
       "      <td>Dancing With A Stranger (with Normani)</td>\n",
       "      <td>171029</td>\n",
       "      <td>False</td>\n",
       "      <td>2019</td>\n",
       "      <td>75</td>\n",
       "      <td>0.741</td>\n",
       "      <td>0.520</td>\n",
       "      <td>8</td>\n",
       "      <td>-7.513</td>\n",
       "      <td>1</td>\n",
       "      <td>0.0656</td>\n",
       "      <td>0.4500</td>\n",
       "      <td>0.000002</td>\n",
       "      <td>0.2220</td>\n",
       "      <td>0.347</td>\n",
       "      <td>102.998</td>\n",
       "      <td>pop</td>\n",
       "    </tr>\n",
       "    <tr>\n",
       "      <th>1999</th>\n",
       "      <td>Post Malone</td>\n",
       "      <td>Circles</td>\n",
       "      <td>215280</td>\n",
       "      <td>False</td>\n",
       "      <td>2019</td>\n",
       "      <td>85</td>\n",
       "      <td>0.695</td>\n",
       "      <td>0.762</td>\n",
       "      <td>0</td>\n",
       "      <td>-3.497</td>\n",
       "      <td>1</td>\n",
       "      <td>0.0395</td>\n",
       "      <td>0.1920</td>\n",
       "      <td>0.002440</td>\n",
       "      <td>0.0863</td>\n",
       "      <td>0.553</td>\n",
       "      <td>120.042</td>\n",
       "      <td>hip hop</td>\n",
       "    </tr>\n",
       "  </tbody>\n",
       "</table>\n",
       "</div>"
      ],
      "text/plain": [
       "              artist                                    song  duration_ms  \\\n",
       "1995  Jonas Brothers                                  Sucker       181026   \n",
       "1996    Taylor Swift                            Cruel Summer       178426   \n",
       "1997    Blanco Brown                              The Git Up       200593   \n",
       "1998       Sam Smith  Dancing With A Stranger (with Normani)       171029   \n",
       "1999     Post Malone                                 Circles       215280   \n",
       "\n",
       "      explicit  year  popularity  danceability  energy  key  loudness  mode  \\\n",
       "1995     False  2019          79         0.842   0.734    1    -5.065     0   \n",
       "1996     False  2019          78         0.552   0.702    9    -5.707     1   \n",
       "1997     False  2019          69         0.847   0.678    9    -8.635     1   \n",
       "1998     False  2019          75         0.741   0.520    8    -7.513     1   \n",
       "1999     False  2019          85         0.695   0.762    0    -3.497     1   \n",
       "\n",
       "      speechiness  acousticness  instrumentalness  liveness  valence    tempo  \\\n",
       "1995       0.0588        0.0427          0.000000    0.1060    0.952  137.958   \n",
       "1996       0.1570        0.1170          0.000021    0.1050    0.564  169.994   \n",
       "1997       0.1090        0.0669          0.000000    0.2740    0.811   97.984   \n",
       "1998       0.0656        0.4500          0.000002    0.2220    0.347  102.998   \n",
       "1999       0.0395        0.1920          0.002440    0.0863    0.553  120.042   \n",
       "\n",
       "                 genre  \n",
       "1995               pop  \n",
       "1996               pop  \n",
       "1997  hip hop, country  \n",
       "1998               pop  \n",
       "1999           hip hop  "
      ]
     },
     "execution_count": 6,
     "metadata": {},
     "output_type": "execute_result"
    }
   ],
   "source": [
    "spotify_df.tail()"
   ]
  },
  {
   "cell_type": "markdown",
   "id": "e20c0388",
   "metadata": {},
   "source": [
    "### Variables\n",
    "\n",
    "Each variable included in the dataset is a generalized form of specifying the different entries of the dataset in a substantial manner. The following are the variables used, their description/representation and data type:\n",
    "\n",
    "| Variable         | Description/Representation | Datatype |\n",
    "|------------------|----------------------------|----------|\n",
    "| Artist           | The track's singer.    | Object |\n",
    "| Title            | The track's name. | Object  |\n",
    "| Duration_ms      | The track's duration in milliseconds.  | Integer |\n",
    "| Explicit         | Dictates whether or not the track contains explicit content.    | Boolean |\n",
    "| Year             | The track's release year.             | Integer |\n",
    "| Popularity       | A measure that quantifies the popularity of the song. Ranges from 0 (least popular) to 100 (most popular). | Integer |\n",
    "| Danceability     | A measure that represents the measure of a song's beat strength, rhythm stability, and tempo. Ranges from 0.0 (least danceable) to 1.0 (most danceable). | Float |\n",
    "| Energy           | A measure of the track's intensity and activity. Ranges from 0.0 (least energy) to 1.0 (most energy). | Float |\n",
    "| Key              | The music key of the track, represented as integers using the standard Pitch Class notation. If no key is detected, the value is -1. | Integer |\n",
    "| Loudness         | A measure of the overall loudness of the track in decibels (dB), averaged across the entire track. | Float |\n",
    "| Mode             | Indicates whether the track is in a major (1) or minor (0) scale. | Integer |\n",
    "| Speechiness      | Measures the presence of spoken words in the track, with values closer to 1.0 indicating more speech content. While values closer to 0.0 most likely represent music and other non-speech-like tracks. | Float |\n",
    "| Acousticness     | A confidence measure of whether the track is acoustic, with 1.0 representing high confidence that the track is acoustic. | Float |\n",
    "| Instrumentalness | Predicts whether the track contains vocals, with values closer to 1.0 indicating a higher likelihood of no vocal content. | Float |\n",
    "| Liveness         | Detects the presence of an audience in the recording, with higher values closer to 1.0 suggesting a live performance. | Float |\n",
    "| Valence          | A measure describing the music positiveness of the track, ranging from 0.0 (negative emotions) to 1.0 (positive emotions). Where tracks with high valence sound happier and tracks with low valence sound sadder. | Float |\n",
    "| Tempo            | The estimated tempo (speed or pace) of the track in beats per minute (BPM). | Float |\n",
    "| Genre            | The genre of the track.    | Object |"
   ]
  },
  {
   "cell_type": "markdown",
   "id": "184749c8",
   "metadata": {},
   "source": [
    "## Data Cleaning\n",
    "\n",
    "Before exploring and analyzing the dataset, data cleaning and preprocessing techniques shall first be performed to address inconsistencies within the dataset that could result in any erroneous data analysis.\n",
    "\n",
    "The researchers have specifically checked for the following aspects in the dataset:\n",
    "- Removing unused variables\n",
    "- Checking for multiple representations in each variable\n",
    "- Incorrect datatype of a variable\n",
    "- Default values of a variable\n",
    "- Missing data\n",
    "- Duplicate data\n",
    "- Inconsistent formatting of values"
   ]
  },
  {
   "cell_type": "markdown",
   "id": "20cf4ffe",
   "metadata": {},
   "source": [
    "### Removing Unused Variables"
   ]
  },
  {
   "cell_type": "markdown",
   "id": "bdd6c41e",
   "metadata": {},
   "source": [
    "To remove a specific entry or column from the dataset, the `drop()` function is called.\n",
    "\n",
    "The researchers decided to remove the variables deemed unnecessary or outside the scope of this study. These consisted of numerical variables not concerned with the research question."
   ]
  },
  {
   "cell_type": "code",
   "execution_count": 7,
   "id": "878283cd",
   "metadata": {},
   "outputs": [
    {
     "name": "stdout",
     "output_type": "stream",
     "text": [
      "<class 'pandas.core.frame.DataFrame'>\n",
      "RangeIndex: 2000 entries, 0 to 1999\n",
      "Data columns (total 8 columns):\n",
      " #   Column            Non-Null Count  Dtype  \n",
      "---  ------            --------------  -----  \n",
      " 0   artist            2000 non-null   object \n",
      " 1   song              2000 non-null   object \n",
      " 2   duration_ms       2000 non-null   int64  \n",
      " 3   year              2000 non-null   int64  \n",
      " 4   popularity        2000 non-null   int64  \n",
      " 5   energy            2000 non-null   float64\n",
      " 6   instrumentalness  2000 non-null   float64\n",
      " 7   tempo             2000 non-null   float64\n",
      "dtypes: float64(3), int64(3), object(2)\n",
      "memory usage: 125.1+ KB\n"
     ]
    }
   ],
   "source": [
    "# Drop unnecessary variables\n",
    "spotify_df = spotify_df.drop(['explicit', 'danceability', 'key', 'loudness', 'mode', 'speechiness', 'acousticness', 'liveness', 'valence', 'genre'], axis = 1)\n",
    "spotify_df.info()"
   ]
  },
  {
   "cell_type": "markdown",
   "id": "e27c0a5f",
   "metadata": {},
   "source": [
    "The variables `explicit`, `danceability`, `key`, `loudness`, `mode`, `speechiness`, `valence`, and `genre` were removed because such components shall not be used in this study. In this way, the study will only dataset will only be focusing on the necessary variables."
   ]
  },
  {
   "cell_type": "markdown",
   "id": "a6e0d522",
   "metadata": {},
   "source": [
    "### Check for Multiple Representations"
   ]
  },
  {
   "cell_type": "markdown",
   "id": "b06f3e5e",
   "metadata": {},
   "source": [
    "To check whether or not the dataset contains multiple representations of values for variables with categorical data, the `value_counts()` function of the pandas library can be called to return the count of each unique value in the Series."
   ]
  },
  {
   "cell_type": "code",
   "execution_count": 41,
   "id": "1d5cda94",
   "metadata": {
    "scrolled": true
   },
   "outputs": [
    {
     "name": "stdout",
     "output_type": "stream",
     "text": [
      "Rihanna           23\n",
      "Drake             23\n",
      "Eminem            21\n",
      "Calvin Harris     20\n",
      "Britney Spears    18\n",
      "                  ..\n",
      "Sidney Samson      1\n",
      "Edward Maya        1\n",
      "Benny Benassi      1\n",
      "Lucenzo            1\n",
      "Blanco Brown       1\n",
      "Name: artist, Length: 819, dtype: int64\n"
     ]
    }
   ],
   "source": [
    "# Check if there are any mispelled or incorrect values in Artist\n",
    "print(spotify_df['artist'].value_counts())"
   ]
  },
  {
   "cell_type": "code",
   "execution_count": 40,
   "id": "78726ea0",
   "metadata": {},
   "outputs": [
    {
     "name": "stdout",
     "output_type": "stream",
     "text": [
      "Sorry                                            4\n",
      "Mercy                                            3\n",
      "Faded                                            3\n",
      "I Like It                                        3\n",
      "Closer                                           3\n",
      "                                                ..\n",
      "America                                          1\n",
      "Unwritten                                        1\n",
      "Black Horse And The Cherry Tree                  1\n",
      "I'm N Luv (Wit a Stripper) (feat. Mike Jones)    1\n",
      "Circles                                          1\n",
      "Name: song, Length: 1840, dtype: int64\n"
     ]
    }
   ],
   "source": [
    "# Check if there are any mispelled or incorrect values in Song\n",
    "print(spotify_df['song'].value_counts())"
   ]
  },
  {
   "cell_type": "markdown",
   "id": "0d0b8876",
   "metadata": {},
   "source": [
    "According to the results executed by the code, all unique values within the `artist` and `song` categorical variables of the dataset fit their valid parameters and are correctly represented."
   ]
  },
  {
   "cell_type": "markdown",
   "id": "56448700",
   "metadata": {},
   "source": [
    "### Check for Incorrect Datatypes"
   ]
  },
  {
   "cell_type": "markdown",
   "id": "2af849ac",
   "metadata": {},
   "source": [
    "To check the data type of every variable/column in the dataset, the `dtypes` property of a dataframe in the pandas library can also be called aside from the `info()` function to assess whether the assigned datatype is correct for the corresponding variable. The code below will list down every variable and its corresponding data type."
   ]
  },
  {
   "cell_type": "code",
   "execution_count": 20,
   "id": "2f3fdb67",
   "metadata": {},
   "outputs": [
    {
     "data": {
      "text/plain": [
       "artist               object\n",
       "song                 object\n",
       "duration_ms           int64\n",
       "year                  int64\n",
       "popularity            int64\n",
       "energy              float64\n",
       "instrumentalness    float64\n",
       "tempo               float64\n",
       "dtype: object"
      ]
     },
     "execution_count": 20,
     "metadata": {},
     "output_type": "execute_result"
    }
   ],
   "source": [
    "spotify_df.dtypes"
   ]
  },
  {
   "cell_type": "markdown",
   "id": "998333ec",
   "metadata": {},
   "source": [
    "Based on the datatypes displayed from the code execution, all variables in the dataset have their appropriate corresponding datatype assigned to them based on their description."
   ]
  },
  {
   "cell_type": "markdown",
   "id": "c7de4434",
   "metadata": {},
   "source": [
    "### Check for Default Values"
   ]
  },
  {
   "cell_type": "markdown",
   "id": "873f0b3f",
   "metadata": {},
   "source": [
    "To check if there exists default values placed per variable in the dataset, the `unique()` method can be used to list down all unique values per variable."
   ]
  },
  {
   "cell_type": "code",
   "execution_count": 21,
   "id": "6acc59e8",
   "metadata": {},
   "outputs": [
    {
     "name": "stdout",
     "output_type": "stream",
     "text": [
      "'artist' column's unique values:\n",
      " ['Britney Spears' 'blink-182' 'Faith Hill' 'Bon Jovi' '*NSYNC' 'Sisqo'\n",
      " 'Eminem' 'Robbie Williams' \"Destiny's Child\" 'Modjo' \"Gigi D'Agostino\"\n",
      " 'Eiffel 65' \"Bomfunk MC's\" 'Sting' 'Melanie C' 'Aaliyah' 'Anastacia'\n",
      " 'Alice Deejay' 'Dr. Dre' 'Linkin Park' 'Tom Jones' 'Sonique' 'M.O.P.'\n",
      " 'Limp Bizkit' 'Darude' 'Da Brat' 'Moloko' 'Chicane' 'DMX'\n",
      " 'Debelah Morgan' 'Madonna' 'Ruff Endz' 'Montell Jordan' 'Kylie Minogue'\n",
      " 'JAY-Z' 'LeAnn Rimes' 'Avant' 'Enrique Iglesias' 'Toni Braxton' 'Bow Wow'\n",
      " 'Missy Elliott' 'Backstreet Boys' 'Samantha Mumba' 'Mýa' 'Mary Mary'\n",
      " 'Next' 'Janet Jackson' 'Ricky Martin' 'Jagged Edge' 'Mariah Carey'\n",
      " 'Baha Men' 'Donell Jones' 'Oasis' 'DJ Ötzi' 'P!nk' 'Craig David'\n",
      " 'Christina Aguilera' 'Red Hot Chili Peppers' 'Sammie' 'Santana' 'Kandi'\n",
      " 'Vengaboys' 'Ronan Keating' 'Madison Avenue' 'Céline Dion' '3 Doors Down'\n",
      " 'Carl Thomas' 'Mystikal' 'Fuel' 'Savage Garden' 'Westlife' 'All Saints'\n",
      " 'Erykah Badu' 'Marc Anthony' 'Matchbox Twenty' 'Gabrielle' 'Creed'\n",
      " 'The Corrs' 'Joe' 'Wheatus' 'Nelly' 'Shaggy' 'Nelly Furtado' 'Shakira'\n",
      " 'Jimmy Eat World' 'Train' 'Geri Halliwell' 'Blu Cantrell' 'Mary J. Blige'\n",
      " 'Faithless' 'Lasgo' 'iio' 'Emma Bunton' '112' 'Blue' 'Jessica Simpson'\n",
      " 'Crazy Town' 'Michael Jackson' 'Eve' 'Jennifer Lopez' 'Brandy'\n",
      " 'Nickelback' 'Daft Punk' 'Outkast' 'Fragma' 'Dido' 'P.O.D.'\n",
      " 'Christina Milian' 'Roger Sanchez' 'Gorillaz' '2Pac' 'Tamia' 'Jamiroquai'\n",
      " 'Case' 'Five' 'Rui Da Silva' 'Alien Ant Farm' 'Erick Sermon' 'D12'\n",
      " 'Usher' 'Atomic Kitten' 'Afroman' 'S Club 7' 'The Supermen Lovers'\n",
      " 'Mis-Teeq' 'Enya' 'Steps' 'Sunshine Anderson' 'Lenny Kravitz'\n",
      " 'Daniel Bedingfield' 'DB Boulevard' 'Ja Rule'\n",
      " 'DJ Pied Piper & The Masters Of Ceremonies' 'Musiq Soulchild'\n",
      " 'So Solid Crew' 'Basement Jaxx' 'Ludacris' 'Trick Daddy' 'Travis' 'OPM'\n",
      " 'K-Ci & JoJo' 'Staind' '3LW' 'Ginuwine' 'Lifehouse' 'Avril Lavigne'\n",
      " 'Vanessa Carlton' 'The Calling' 'No Doubt' 'Truth Hurts' 'Busta Rhymes'\n",
      " 'Diddy' 'Angie Martinez' 'Las Ketchup' 'Holly Valance' 'Sugababes'\n",
      " 'Marilyn Manson' 'Chad Kroeger' 'Scooter' 'Disturbing Tha Peace' 'Khia'\n",
      " 'Tweet' 'Gareth Gates' 'B2K' 'Dirty Vegas' 'Fat Joe' 'Liberty X'\n",
      " 'LL Cool J' 'Sean Paul' 'Faith Evans' 'Charli Baltimore' 'N.O.R.E.'\n",
      " 'Big Brovaz' 'Ashanti' 'Sophie Ellis-Bextor' 'Justin Timberlake' 'A1'\n",
      " 'Delta Goodrem' 'Alicia Keys' 'Coldplay' 'Big Tymers' 'DJ Sammy'\n",
      " 'Cam’ron' 'Elvis Presley' 'Alanis Morissette' 'The Goo Goo Dolls'\n",
      " 'Puddle Of Mudd' \"Blazin' Squad\" 'Default' 'Michelle Branch' '50 Cent'\n",
      " 'Beyoncé' 'Counting Crows' 'Black Eyed Peas' 't.A.T.u.' 'Benny Benassi'\n",
      " 'Panjabi MC' 'Jamelia' 'Evanescence' 'Three Days Grace'\n",
      " 'Lil Jon & The East Side Boyz' 'Baby Bash' 'The White Stripes'\n",
      " 'Youngbloodz' \"Lil' Kim\" 'Trapt' 'Simply Red' 'Lumidee' 'Girls Aloud'\n",
      " 'Room 5' 'Fatman Scoop' 'Pharrell Williams' 'Chingy' 'Ultrabeat'\n",
      " 'Frankie J' 'Snoop Dogg' 'Floetry' 'Electric Six' 'Rachel Stevens' 'Nas'\n",
      " 'Tyrese' 'Amanda Perez' 'Kelly Rowland' 'Junior Senior' 'Audioslave'\n",
      " 'Jaheim' 'Monica' 'The Roots' 'Fabolous' 'Kelly Clarkson' 'Switchfoot'\n",
      " 'Good Charlotte' 'Wayne Wonder' 'The Strokes' 'Will Young' 'Maroon 5'\n",
      " 'Hoobastank' 'Daddy Yankee' 'O-Zone' 'Terror Squad' 'Gwen Stefani'\n",
      " 'The Rasmus' 'Houston' 'Lloyd Banks' 'Akon' 'Jay Sean' 'Mario Winans'\n",
      " 'Eric Prydz' 'Ciara' 'Kelis' 'Spiderbait' 'George Michael' 'Nina Sky'\n",
      " 'Petey Pablo' 'Juanes' 'Ying Yang Twins' 'JoJo' 'The Shapeshifters'\n",
      " 'Kevin Lyttle' 'T.I.' 'DJ Casper' 'Twista' 'N.E.R.D' 'U2'\n",
      " 'Franz Ferdinand' 'J-Kwon' 'G-Unit' \"Lil' Flip\" 'Kanye West' 'Lemar'\n",
      " 'Green Day' 'Scissor Sisters' 'Special D.' 'Eamon' 'Katie Melua' 'Lloyd'\n",
      " 'LMC' 'The Streets' 'JUVENILE' 'Gary Jules' 'Ashlee Simpson' 'Mario'\n",
      " 'Rihanna' 'James Blunt' 'The Pussycat Dolls' 'Daniel Powter' 'Crazy Frog'\n",
      " 'The Chemical Brothers' 'Fort Minor' 'The Game' 'Chris Brown'\n",
      " 'Bodyrockers' 'Jeezy' 'David Banner' 'Trillville' 'D4L' 'Rob Thomas'\n",
      " 'Brian McFadden' 'Bobby V.' 'Pretty Ricky' 'Amerie' 'Natalie Imbruglia'\n",
      " 'Thirty Seconds To Mars' 'Will Smith' 'Kaiser Chiefs' 'Ray J'\n",
      " 'Papa Roach' 'Arctic Monkeys' 'Shayne Ward' 'T-Pain' 'Ryan Cabrera'\n",
      " 'Stereophonics' 'KT Tunstall' 'The All-American Rejects' 'Toby Keith'\n",
      " 'Foo Fighters' 'Amy Winehouse' 'Gnarls Barkley' 'Bob Sinclar'\n",
      " 'Chamillionaire' 'Fedde Le Grand' 'Cherish' 'Muse' 'Infernal' 'Cassie'\n",
      " 'E-40' 'Lil Jon' 'Armand Van Helden' 'The Notorious B.I.G.' 'Yung Joc'\n",
      " 'Take That' 'Fergie' 'Cascada' 'Meck' 'Dem Franchize Boyz' 'Fall Out Boy'\n",
      " 'Leona Lewis' 'Nick Lachey' 'Jibbs' 'Rascal Flatts' 'Keyshia Cole'\n",
      " 'Lily Allen' 'Ne-Yo' 'Bubba Sparxxx' 'Hinder' 'The Raconteurs'\n",
      " 'The Fratellis' 'Panic! At The Disco' 'Keane' 'Orson'\n",
      " 'Natasha Bedingfield' 'Razorlight' 'James Morrison' 'Snow Patrol'\n",
      " 'The Fray' 'Sandi Thom' 'My Chemical Romance' 'The Kooks' 'Mark Ronson'\n",
      " \"Plain White T's\" 'Timbaland' 'Ida Corr' 'Alex Gaudino' 'September'\n",
      " 'Gym Class Heroes' 'Soulja Boy' 'Camille Jones' 'Shop Boyz'\n",
      " 'Finger Eleven' 'MiMS' 'Seether' 'Calvin Harris' 'Daughtry' 'Unk'\n",
      " 'Klaxons' 'Baby Boy Da Prince' 'Omarion' 'All Time Low' 'T2' 'Robyn'\n",
      " 'Paramore' 'Huey' 'Plies' 'Jim Jones' 'The Red Jumpsuit Apparatus' 'MIKA'\n",
      " 'Sean Kingston' 'Carrie Underwood' 'Just Jack' 'Bone Thugs-N-Harmony'\n",
      " 'Rich Boy' 'Manic Street Preachers' 'Elliott Yamin' 'Wyclef Jean'\n",
      " 'Boys Like Girls' 'J. Holiday' 'Flo Rida' 'Katy Perry'\n",
      " 'Kardinal Offishall' 'Madcon' 'Guru Josh Project' 'Lil Wayne'\n",
      " 'Basshunter' 'will.i.am' \"Colby O'Donis\" 'Miley Cyrus' 'Alesha Dixon'\n",
      " 'Dizzee Rascal' 'Gabriella Cilmi' 'Jack White' 'The Offspring' 'Estelle'\n",
      " 'Saving Abel' 'Pendulum' 'Danity Kane' 'M.I.A.' 'MGMT' 'The Ting Tings'\n",
      " 'The-Dream' 'Wiley' 'Sam Sparro' 'H \"two\" O' 'Metro Station' 'Trey Songz'\n",
      " 'OneRepublic' 'Alexandra Burke' 'Jordin Sparks' 'Kings of Leon' 'Duffy'\n",
      " 'David Archuleta' 'Gavin DeGraw' 'Jennifer Hudson' 'John Legend'\n",
      " 'Jonas Brothers' 'Lupe Fiasco' 'Adele' 'Lady Gaga' 'David Guetta'\n",
      " 'Taylor Swift' 'Pitbull' 'Skillet' 'The Prodigy' 'Kid Cudi' 'Agnes'\n",
      " 'Jeremih' 'Kevin Rudolf' 'The xx' 'Keri Hilson' 'Cheryl' 'Tinchy Stryder'\n",
      " 'Pixie Lott' 'JLS' '3OH!3' 'A.R. Rahman' 'Drake'\n",
      " 'Selena Gomez & The Scene' 'The Veronicas' 'Jason Derulo'\n",
      " 'Empire of the Sun' 'Cobra Starship' 'La Roux' 'Kasabian' 'Justin Bieber'\n",
      " 'Jamie Foxx' 'Jason Aldean' 'Shinedown' 'Asher Roth' 'Mumford & Sons'\n",
      " 'Bruno Mars' 'Stromae' 'Kesha' 'Taio Cruz' 'INNA' 'Far East Movement'\n",
      " 'Duck Sauce' 'Lucenzo' 'DJ Fresh' 'Edward Maya' 'Sidney Samson'\n",
      " 'Swedish House Mafia' 'Iyaz' 'Waka Flocka Flame' 'Tinie Tempah'\n",
      " 'Mike Posner' 'Yolanda Be Cool' 'Adam Lambert' 'Tim Berg'\n",
      " 'Cali Swag District' \"K'NAAN\" 'DJ Khaled' 'Aloe Blacc' 'B.o.B'\n",
      " 'Shontelle' 'Example' 'Plan B' 'The Saturdays' 'The Wanted'\n",
      " 'Ellie Goulding' 'Two Door Cinema Club' 'Young Money'\n",
      " 'Scouting For Girls' 'Travie McCoy' 'Owl City' 'Lady A' 'Neon Trees'\n",
      " 'Kris Allen' 'Matt Cardle' 'The Band Perry' 'LMFAO' 'Alexandra Stan'\n",
      " 'Lykke Li' 'Wiz Khalifa' 'Sak Noel' 'Olly Murs' 'Jessie J' 'M83'\n",
      " 'Labrinth' 'Nicole Scherzinger' 'Mann' 'Miguel' 'Diddy - Dirty Money'\n",
      " 'Professor Green' 'Chase & Status' 'Chip' 'Rizzle Kicks' 'Nicki Minaj'\n",
      " 'Mac Miller' 'Foster The People' 'Bad Meets Evil' 'Blake Shelton'\n",
      " 'Hot Chelle Rae' 'Grouplove' 'Christina Perri' 'Charlene Soraia'\n",
      " 'Carly Rae Jepsen' 'fun.' 'DEV' 'Skrillex' 'Kendrick Lamar' 'MARINA'\n",
      " 'PSY' 'Avicii' 'Asaf Avidan & the Mojos' 'Florence + The Machine'\n",
      " 'Azealia Banks' 'James Arthur' 'Michel Teló' 'Otto Knows' 'Icona Pop'\n",
      " 'Tyga' 'Grimes' 'Frank Ocean' 'The Script' 'ScHoolboy Q' 'Rita Ora'\n",
      " 'Alex Clare' 'Alesso' 'Guy Sebastian' 'Gotye' 'One Direction'\n",
      " 'Lana Del Rey' 'Emeli Sandé' 'Disclosure' 'alt-J' 'Rudimental'\n",
      " 'Demi Lovato' 'Little Mix' 'Cher Lloyd' 'Lorde' 'Robin Thicke'\n",
      " 'Imagine Dragons' 'Macklemore & Ryan Lewis' 'Bingo Players' 'Naughty Boy'\n",
      " 'Tom Odell' '2 Chainz' 'Martin Garrix' 'John Newman' 'The Neighbourhood'\n",
      " 'Sebastian Ingrosso' 'Capital Cities' 'Selena Gomez' 'Klangkarussell'\n",
      " 'A$AP Rocky' 'Ylvis' 'Baauer' 'AWOLNATION' 'Duke Dumont' 'Storm Queen'\n",
      " 'Wale' 'Birdy' 'Bastille' 'Bridgit Mendler' 'Zedd' 'Armin van Buuren'\n",
      " 'Of Monsters and Men' 'J. Cole' 'Childish Gambino' 'Passenger'\n",
      " 'Ariana Grande' 'Florida Georgia Line' 'Iggy Azalea' 'Sam Smith' 'MAGIC!'\n",
      " 'Sia' 'ZHU' 'Meghan Trainor' 'Tove Lo' 'Oliver Heldens' 'DJ Snake'\n",
      " 'Tinashe' 'Route 94' 'O.T. Genasis' 'Lilly Wood and The Prick'\n",
      " 'Bobby Shmurda' 'Nico & Vinz' 'Becky G' 'Sigma' 'The Chainsmokers'\n",
      " 'Rixton' 'Klingande' 'Mr. Probz' 'Paloma Faith' 'Kiesza' 'Kid Ink'\n",
      " 'Peking Duk' 'Milky Chance' 'Ed Sheeran' 'Gorgon City' 'MKTO'\n",
      " 'Charli XCX' 'Tiësto' '5 Seconds of Summer' 'G.R.L.' 'Clean Bandit'\n",
      " 'Alex & Sierra' 'Echosmith' 'Natalie La Rose' 'Vance Joy'\n",
      " 'Ella Henderson' 'Sheppard' 'Nick Jonas' 'Major Lazer' 'The Weeknd'\n",
      " 'Deorro' 'Rae Sremmurd' 'Robin Schulz' 'Philip George' 'Rob $tone'\n",
      " 'Lost Frequencies' 'Twenty One Pilots' 'Fifth Harmony' 'KALEO'\n",
      " 'Martin Solveig' 'Felix Jaehn' 'Galantis' 'Zara Larsson' 'Travis Scott'\n",
      " 'Years & Years' 'Lemaitre' 'Pia Mia' 'Silentó' 'The Strumbellas'\n",
      " 'Fetty Wap' 'SAYGRACE' 'X Ambassadors' 'R. City' 'Kygo' 'Tame Impala'\n",
      " 'Hozier' 'Alessia Cara' 'Meek Mill' 'Big Sean' 'Petit Biscuit'\n",
      " 'Shawn Mendes' 'Jack Ü' 'Bryson Tiller' 'Rich Homie Quan' 'Joel Adams'\n",
      " 'Jonas Blue' 'BØRNS' 'Sigala' 'Nicky Jam' 'Desiigner' 'Burak Yeter'\n",
      " 'WILLOW' 'G-Eazy' 'Astrid S' 'Future' 'Alok' 'Jon Bellion' 'Cheat Codes'\n",
      " 'Dua Lipa' 'Alan Walker' 'Kevin Gates' 'Marshmello'\n",
      " 'Fitz and The Tantrums' 'Anne-Marie' 'Charlie Puth' 'AlunaGeorge' 'MNEK'\n",
      " 'Mike Perry' 'Tory Lanez' 'Kungs' 'DNCE' '99 Souls' 'Illy' 'Kiiara'\n",
      " 'ZAYN' 'Steve Aoki' 'Flume' 'PARTYNEXTDOOR' 'Garrett Nash'\n",
      " 'Hilltop Hoods' 'Daya' 'Kent Jones' 'MØ' 'The Lumineers' 'Luis Fonsi'\n",
      " 'Camila Cabello' 'Billie Eilish' 'Lil Peep' 'A$AP Ferg' 'French Montana'\n",
      " '21 Savage' 'Axwell /\\\\ Ingrosso' 'J Balvin' 'Jax Jones' 'Ayo & Teo'\n",
      " 'Lil Uzi Vert' 'Playboi Carti' 'Chord Overstreet' 'Natti Natasha'\n",
      " 'Big Shaq' \"Rag'n'Bone Man\" 'blackbear' 'Lil Pump' 'Kodak Black'\n",
      " 'A Boogie Wit da Hoodie' 'XXXTENTACION' 'Migos' 'Yo Gotti'\n",
      " 'Martin Jensen' 'The Vamps' 'Cardi B' 'Post Malone' 'Zay Hilfigerrr'\n",
      " 'Maggie Lindemann' 'Macklemore' 'Hayden James' 'Liam Payne' 'Starley'\n",
      " 'AJR' 'CNCO' 'Offset' 'Dynoro' 'Juice WRLD' 'Sheck Wes' '6ix9ine'\n",
      " 'Nio Garcia' 'Machine Gun Kelly' 'Jay Rock' 'Rich The Kid' 'Logic' 'EO'\n",
      " 'Dennis Lloyd' 'girl in red' 'Tom Walker' 'Sofía Reyes' 'Loud Luxury'\n",
      " 'NF' 'Maluma' 'Lil Baby' 'Ozuna' 'BlocBoy JB' 'Dean Lewis' 'YG' 'B Young'\n",
      " 'Reik' 'benny blanco' 'MK' 'Banx & Ranx' 'Ella Mai' 'FINNEAS'\n",
      " 'Hugh Jackman' 'Halsey' 'M.O' 'Cashmere Cat' 'Bazzi' 'Lil Dicky' 'Lauv'\n",
      " 'Khalid' 'Lil Nas X' 'Gesaffelstein' 'Regard' 'Lewis Capaldi' 'Mustard'\n",
      " 'NLE Choppa' 'Alec Benjamin' 'BLACKPINK' 'MEDUZA' 'Mabel' 'Saweetie'\n",
      " 'Lil Tecca' 'Russ Millions' 'Doja Cat' 'iann dior' 'Paulo Londra'\n",
      " 'Bad Bunny' 'Polo G' 'Young Thug' 'Anuel AA' 'Flipp Dinero' 'Dave'\n",
      " 'Ava Max' 'Young T & Bugsey' 'Stormzy' 'Tones And I' 'Pedro Capó' 'Lunay'\n",
      " 'Blueface' 'DaBaby' 'AJ Tracey' 'BTS' 'Tyler, The Creator' 'Ashley O'\n",
      " 'Dominic Fike' 'Megan Thee Stallion' 'Sam Feldt' 'Kehlani' 'Sech' 'NSG'\n",
      " 'Normani' 'Joel Corry' 'Blanco Brown']\n",
      "\n",
      "'song' column's unique values:\n",
      " ['Oops!...I Did It Again' 'All The Small Things' 'Breathe' ...\n",
      " 'The Git Up' 'Dancing With A Stranger (with Normani)' 'Circles']\n",
      "\n",
      "'duration_ms' column's unique values:\n",
      " [211160 167066 250546 ... 200593 171029 215280]\n",
      "\n",
      "'year' column's unique values:\n",
      " [2000 1999 2001 2011 2002 2016 1998 2018 2004 2010 2015 2006 2008 2019\n",
      " 2003 2013 2005 2012 2020 2007 2009 2017 2014]\n",
      "\n",
      "'popularity' column's unique values:\n",
      " [77 79 66 78 65 69 86 68 75  1 56 55 62 61 53 64 73 82 83 54 72 47 71 49\n",
      " 58 52 59 36 43 60 63  0 70 57 76 74 50 42 48 67 26 46 51 30 45 87 27 85\n",
      " 40  2 80 35 24 32 81 39  3 38 44 11 16 33 37 28  4 21 41 34 17 18  6 88\n",
      " 89 84  8  7]\n",
      "\n",
      "'energy' column's unique values:\n",
      " [0.834  0.897  0.496  0.913  0.928  0.888  0.661  0.772  0.678  0.808\n",
      " 0.728  0.958  0.922  0.659  0.685  0.622  0.716  0.88   0.876  0.909\n",
      " 0.864  0.677  0.803  0.852  0.965  0.681  0.743  0.72   0.931  0.674\n",
      " 0.802  0.641  0.491  0.662  0.814  0.736  0.48   0.866  0.947  0.75\n",
      " 0.74   0.445  0.625  0.632  0.688  0.652  0.796  0.95   0.836  0.443\n",
      " 0.532  0.887  0.543  0.849  0.968  0.732  0.514  0.744  0.47   0.734\n",
      " 0.795  0.656  0.812  0.601  0.847  0.901  0.791  0.982  0.886  0.865\n",
      " 0.666  0.607  0.831  0.396  0.593  0.664  0.602  0.874  0.416  0.894\n",
      " 0.83   0.481  0.786  0.539  0.82   0.487  0.85   0.915  0.606  0.911\n",
      " 0.768  0.563  0.801  0.608  0.832  0.638  0.929  0.773  0.843  0.669\n",
      " 0.551  0.903  0.933  0.981  0.855  0.71   0.737  0.811  0.673  0.557\n",
      " 0.869  0.787  0.764  0.697  0.806  0.917  0.79   0.583  0.759  0.86\n",
      " 0.729  0.854  0.868  0.694  0.706  0.837  0.842  0.724  0.579  0.52\n",
      " 0.821  0.964  0.466  0.634  0.8    0.618  0.707  0.581  0.341  0.672\n",
      " 0.679  0.919  0.568  0.702  0.249  0.511  0.899  0.835  0.665  0.925\n",
      " 0.804  0.762  0.715  0.934  0.877  0.587  0.385  0.637  0.316  0.829\n",
      " 0.896  0.7    0.561  0.905  0.844  0.644  0.774  0.723  0.594  0.403\n",
      " 0.858  0.552  0.776  0.825  0.719  0.597  0.731  0.471  0.839  0.797\n",
      " 0.69   0.643  0.923  0.717  0.845  0.698  0.701  0.654  0.722  0.793\n",
      " 0.691  0.904  0.84   0.751  0.536  0.745  0.889  0.853  0.614  0.938\n",
      " 0.77   0.761  0.757  0.59   0.863  0.426  0.726  0.872  0.58   0.848\n",
      " 0.667  0.758  0.515  0.589  0.41   0.749  0.695  0.9    0.953  0.767\n",
      " 0.97   0.649  0.807  0.725  0.748  0.668  0.746  0.769  0.538  0.936\n",
      " 0.588  0.713  0.824  0.735  0.873  0.687  0.714  0.879  0.645  0.978\n",
      " 0.943  0.604  0.68   0.34   0.6    0.747  0.469  0.488  0.498  0.658\n",
      " 0.699  0.733  0.657  0.867  0.489  0.705  0.404  0.752  0.813  0.459\n",
      " 0.826  0.775  0.92   0.433  0.398  0.541  0.862  0.885  0.521  0.636\n",
      " 0.54   0.718  0.78   0.525  0.957  0.615  0.646  0.788  0.93   0.819\n",
      " 0.406  0.838  0.974  0.671  0.799  0.916  0.948  0.621  0.502  0.647\n",
      " 0.754  0.712  0.655  0.907  0.513  0.381  0.633  0.628  0.682  0.891\n",
      " 0.785  0.792  0.851  0.284  0.663  0.741  0.387  0.265  0.988  0.924\n",
      " 0.465  0.739  0.999  0.846  0.653  0.458  0.533  0.219  0.507  0.756\n",
      " 0.0581 0.476  0.578  0.696  0.64   0.574  0.479  0.631  0.692  0.648\n",
      " 0.482  0.599  0.365  0.66   0.493  0.783  0.439  0.452  0.55   0.417\n",
      " 0.946  0.639  0.944  0.798  0.912  0.558  0.247  0.501  0.529  0.956\n",
      " 0.358  0.508  0.979  0.329  0.584  0.554  0.4    0.517  0.898  0.955\n",
      " 0.87   0.721  0.94   0.777  0.823  0.485  0.817  0.595  0.67   0.921\n",
      " 0.572  0.454  0.484  0.577  0.815  0.504  0.609  0.977  0.908  0.391\n",
      " 0.62   0.883  0.961  0.562  0.81   0.598  0.742  0.875  0.519  0.516\n",
      " 0.261  0.203  0.624  0.368  0.612  0.291  0.954  0.881  0.711  0.782\n",
      " 0.937  0.45   0.861  0.857  0.709  0.939  0.591  0.967  0.959  0.394\n",
      " 0.438  0.91   0.895  0.422  0.629  0.906  0.708  0.932  0.828  0.789\n",
      " 0.76   0.467  0.549  0.693  0.518  0.428  0.976  0.841  0.984  0.972\n",
      " 0.765  0.571  0.966  0.766  0.524  0.884  0.927  0.322  0.703  0.462\n",
      " 0.859  0.425  0.617  0.684  0.882  0.822  0.627  0.468  0.523  0.486\n",
      " 0.778  0.941  0.945  0.902  0.969  0.89   0.918  0.596  0.492  0.771\n",
      " 0.878  0.675  0.942  0.805  0.605  0.781  0.613  0.753  0.893  0.683\n",
      " 0.497  0.546  0.926  0.856  0.585  0.963  0.566  0.611  0.321  0.348\n",
      " 0.115  0.407  0.689  0.676  0.935  0.339  0.603  0.784  0.527  0.952\n",
      " 0.44   0.727  0.442  0.686  0.526  0.818  0.985  0.537  0.914  0.816\n",
      " 0.582  0.794  0.435  0.576  0.534  0.833  0.512  0.61   0.414  0.463\n",
      " 0.871  0.31   0.28   0.42   0.264  0.475  0.65   0.51   0.522  0.951\n",
      " 0.586  0.738  0.292  0.0549 0.567  0.809  0.73   0.564  0.827  0.427\n",
      " 0.43   0.635  0.302  0.356  0.57   0.378  0.431  0.331  0.314  0.575\n",
      " 0.412  0.553  0.623  0.275  0.5    0.531  0.372  0.763  0.448  0.318\n",
      " 0.434  0.347  0.437  0.626  0.444  0.451  0.548  0.449  0.559  0.296\n",
      " 0.366  0.308  0.346  0.473  0.779  0.892  0.408  0.544  0.505  0.56\n",
      " 0.619  0.317  0.405  0.642  0.53   0.63   0.704  0.364  0.382  0.389 ]\n",
      "\n",
      "'instrumentalness' column's unique values:\n",
      " [1.77e-05 0.00e+00 1.35e-05 1.04e-03 9.64e-05 2.93e-02 4.82e-02 3.24e-01\n",
      " 3.25e-01 6.91e-01 1.52e-03 1.38e-05 1.03e-03 1.67e-03 3.06e-01 9.85e-01\n",
      " 1.29e-04 5.04e-01 6.45e-04 8.76e-02 4.56e-06 4.65e-04 4.61e-05 6.19e-05\n",
      " 6.72e-03 9.58e-05 1.61e-03 3.14e-05 9.79e-05 2.78e-03 6.51e-06 9.31e-06\n",
      " 5.73e-05 2.51e-05 4.46e-03 9.51e-03 2.02e-04 1.13e-04 2.01e-03 3.08e-03\n",
      " 1.24e-04 6.89e-03 1.57e-03 1.10e-05 3.82e-05 3.41e-04 1.60e-06 4.20e-04\n",
      " 3.69e-06 2.24e-06 2.66e-06 3.85e-06 8.83e-06 8.90e-04 6.80e-05 1.09e-05\n",
      " 2.33e-04 1.25e-05 1.40e-04 1.54e-04 2.34e-06 6.83e-01 1.49e-05 5.38e-06\n",
      " 1.14e-05 7.96e-03 1.34e-04 4.72e-05 2.97e-06 4.12e-05 7.99e-01 8.93e-05\n",
      " 1.85e-02 7.01e-06 8.84e-05 1.42e-04 2.27e-04 1.21e-04 3.68e-05 6.76e-02\n",
      " 2.38e-04 1.06e-02 2.47e-03 1.08e-01 8.30e-03 2.26e-05 1.46e-01 7.12e-05\n",
      " 3.54e-06 1.16e-02 2.47e-04 2.27e-01 5.12e-03 1.35e-06 2.98e-05 2.12e-05\n",
      " 9.25e-04 4.20e-03 3.16e-04 1.87e-02 8.63e-03 6.61e-01 2.95e-06 1.11e-06\n",
      " 2.09e-06 4.33e-05 5.48e-05 7.46e-02 6.50e-02 3.55e-03 6.04e-06 2.03e-03\n",
      " 1.80e-06 8.14e-06 1.26e-04 2.83e-03 5.49e-04 4.40e-06 1.64e-04 7.74e-06\n",
      " 1.57e-06 1.62e-04 1.75e-04 3.25e-03 1.10e-06 2.86e-03 4.61e-01 6.23e-06\n",
      " 1.83e-06 3.62e-02 1.40e-03 4.32e-03 4.20e-05 1.65e-05 9.84e-02 6.69e-03\n",
      " 3.70e-06 1.81e-06 8.72e-02 2.19e-05 1.23e-02 1.50e-06 5.10e-02 1.13e-06\n",
      " 5.39e-06 2.53e-06 5.37e-06 1.16e-05 3.07e-04 3.74e-06 1.22e-04 1.15e-02\n",
      " 8.97e-06 4.31e-06 6.06e-04 2.05e-01 4.82e-03 5.62e-06 2.83e-06 3.57e-05\n",
      " 1.50e-04 5.12e-04 3.03e-03 2.44e-04 4.95e-06 1.32e-06 6.60e-04 5.04e-06\n",
      " 5.99e-03 1.45e-01 7.92e-01 4.35e-06 2.06e-06 8.43e-06 2.19e-06 1.69e-06\n",
      " 2.34e-04 4.47e-01 1.16e-06 4.49e-05 1.81e-03 1.89e-06 2.78e-06 2.01e-01\n",
      " 7.12e-01 4.67e-05 6.30e-01 3.05e-06 4.65e-06 1.24e-05 9.37e-05 2.75e-03\n",
      " 3.53e-04 1.42e-06 1.66e-01 1.44e-03 9.25e-05 1.18e-03 4.26e-06 1.06e-01\n",
      " 3.30e-06 4.15e-04 2.15e-04 7.13e-01 2.50e-02 5.32e-04 1.20e-06 8.19e-06\n",
      " 1.75e-06 5.20e-05 6.24e-06 5.70e-04 2.05e-06 1.56e-03 2.19e-01 1.15e-03\n",
      " 1.52e-06 3.89e-04 2.50e-05 5.91e-01 1.77e-06 1.96e-06 3.31e-04 2.63e-06\n",
      " 4.94e-02 3.46e-02 6.45e-05 5.36e-04 5.13e-06 4.04e-05 2.25e-04 3.07e-06\n",
      " 5.71e-03 4.80e-02 7.44e-04 8.57e-05 1.08e-03 5.10e-04 1.49e-06 7.86e-05\n",
      " 1.67e-02 1.83e-03 5.21e-06 2.24e-03 3.25e-06 3.25e-05 2.96e-04 3.31e-02\n",
      " 4.92e-03 3.40e-04 3.66e-04 4.43e-03 7.70e-04 3.20e-05 1.76e-05 1.54e-05\n",
      " 2.54e-06 3.36e-03 3.37e-06 1.61e-01 6.08e-03 6.93e-01 2.22e-02 2.87e-06\n",
      " 7.88e-05 1.39e-05 2.33e-03 1.46e-02 3.08e-04 8.69e-02 7.60e-04 1.91e-04\n",
      " 1.22e-01 6.97e-03 4.92e-06 1.28e-03 3.75e-05 4.93e-04 2.81e-06 6.17e-06\n",
      " 2.94e-04 3.11e-03 8.59e-03 2.48e-03 5.02e-04 6.15e-06 1.09e-03 4.09e-04\n",
      " 9.00e-06 1.66e-04 6.82e-03 1.37e-06 3.45e-02 6.03e-02 4.73e-01 3.09e-04\n",
      " 9.42e-05 5.46e-06 1.51e-06 5.07e-05 7.14e-03 1.08e-04 3.58e-04 1.30e-02\n",
      " 6.13e-05 1.54e-01 5.14e-06 4.94e-05 5.17e-03 6.59e-05 8.66e-03 1.18e-05\n",
      " 1.68e-05 1.20e-05 1.22e-05 1.88e-03 8.34e-06 6.90e-01 7.54e-06 1.28e-04\n",
      " 1.27e-04 3.88e-06 4.28e-03 8.59e-06 1.22e-06 9.16e-03 1.97e-03 3.42e-03\n",
      " 8.55e-03 1.78e-04 3.26e-06 5.66e-02 1.10e-04 8.63e-04 6.78e-04 4.26e-04\n",
      " 1.02e-03 7.51e-01 1.12e-03 6.65e-02 8.14e-04 1.39e-04 5.52e-04 3.50e-02\n",
      " 2.10e-01 2.37e-04 1.28e-06 1.29e-01 2.90e-02 1.64e-06 3.00e-04 1.59e-06\n",
      " 1.55e-03 2.57e-01 6.05e-05 2.21e-04 7.38e-06 1.61e-04 2.05e-05 3.80e-06\n",
      " 3.92e-03 4.52e-05 9.26e-06 4.85e-06 8.52e-06 1.02e-02 1.47e-02 6.64e-03\n",
      " 3.56e-04 2.98e-03 1.13e-05 1.75e-05 8.85e-06 8.02e-06 4.13e-03 6.96e-03\n",
      " 6.92e-05 3.46e-05 8.12e-01 4.05e-04 1.27e-01 2.02e-03 7.34e-05 7.01e-03\n",
      " 7.74e-05 2.70e-06 3.02e-05 1.48e-01 5.00e-01 7.45e-05 5.16e-06 2.68e-04\n",
      " 4.90e-03 2.68e-03 4.82e-04 2.39e-05 2.18e-02 3.73e-02 5.61e-06 3.09e-06\n",
      " 5.65e-04 3.23e-06 1.04e-02 1.29e-03 1.88e-04 2.43e-05 6.16e-04 2.49e-04\n",
      " 3.81e-04 2.43e-06 1.17e-01 2.17e-05 7.13e-06 4.26e-05 1.86e-05 7.28e-05\n",
      " 1.71e-03 1.62e-02 9.35e-06 5.24e-05 1.45e-06 9.25e-01 4.82e-06 4.27e-04\n",
      " 1.01e-06 1.72e-02 9.89e-03 7.52e-06 6.47e-05 1.49e-01 1.05e-01 7.13e-05\n",
      " 6.40e-02 1.65e-03 3.39e-06 8.18e-06 8.82e-05 1.15e-04 2.46e-05 3.19e-05\n",
      " 4.34e-06 1.07e-05 1.26e-03 4.41e-01 1.97e-01 1.76e-04 3.08e-02 1.86e-02\n",
      " 8.94e-01 1.50e-03 5.32e-06 2.77e-06 8.46e-06 8.17e-04 8.12e-02 9.43e-05\n",
      " 1.11e-05 1.23e-06 4.25e-04 1.43e-06 3.03e-06 6.81e-06 1.42e-05 1.86e-04\n",
      " 5.26e-06 2.25e-01 2.83e-04 4.78e-04 1.60e-04 5.66e-05 1.37e-03 3.40e-05\n",
      " 1.62e-03 3.58e-06 3.27e-03 6.71e-06 7.92e-03 1.89e-05 1.40e-06 8.75e-05\n",
      " 4.31e-05 1.66e-06 5.51e-06 1.23e-04 1.38e-03 1.71e-05 4.31e-03 1.27e-02\n",
      " 5.11e-06 4.93e-01 4.06e-06 1.15e-01 2.36e-06 1.39e-02 1.03e-02 1.57e-05\n",
      " 5.23e-06 9.61e-04 2.28e-06 7.66e-05 5.30e-06 9.21e-04 2.04e-02 3.22e-05\n",
      " 7.82e-06 4.09e-06 2.69e-05 5.80e-05 5.80e-04 1.25e-04 8.28e-01 1.91e-05\n",
      " 4.07e-06 1.00e-04 4.12e-03 1.20e-04 2.23e-02 1.34e-05 1.96e-05 7.03e-03\n",
      " 2.79e-06 9.01e-01 2.22e-06 5.03e-04 7.71e-03 1.98e-03 1.50e-01 2.25e-06\n",
      " 1.91e-06 5.62e-02 1.68e-04 1.33e-04 6.98e-06 3.87e-06 3.91e-02 1.06e-05\n",
      " 9.45e-05 1.50e-02 8.79e-04 6.12e-05 2.64e-06 1.82e-04 5.56e-04 1.78e-05\n",
      " 1.20e-03 1.07e-06 8.96e-05 6.86e-06 4.45e-01 5.96e-04 1.11e-03 1.77e-02\n",
      " 1.73e-02 5.27e-05 2.10e-04 1.79e-06 6.53e-06 1.64e-05 3.32e-06 6.67e-05\n",
      " 2.50e-04 2.63e-04 9.59e-03 2.02e-02 6.24e-05 1.82e-03 6.09e-01 5.53e-03\n",
      " 1.12e-04 8.73e-06 6.60e-06 4.12e-04 3.84e-05 1.14e-03 7.24e-05 2.03e-04\n",
      " 6.43e-04 1.30e-03 6.39e-05 6.07e-05 1.19e-01 3.86e-04 1.15e-05 2.46e-06\n",
      " 7.20e-01 6.16e-06 9.14e-04 7.43e-06 7.78e-06 5.74e-03 1.28e-01 4.30e-02\n",
      " 1.58e-06 3.59e-05 6.34e-06 8.77e-06 5.69e-02 9.97e-05 4.35e-05 8.68e-04\n",
      " 2.04e-04 3.65e-06 4.64e-05 7.84e-03 1.28e-02 2.58e-03 3.04e-04 2.64e-03\n",
      " 2.03e-06 1.48e-05 8.21e-06 8.66e-06 2.95e-04 8.15e-05 1.03e-06 1.42e-03\n",
      " 1.23e-03 1.83e-04 1.92e-05 3.78e-06 5.34e-03 1.69e-03 9.01e-02 9.90e-04\n",
      " 7.83e-05 2.29e-05 7.04e-06 8.33e-04 4.09e-03 1.97e-04 5.60e-03 1.93e-03\n",
      " 1.94e-06 1.48e-04 7.88e-03 9.86e-06 1.90e-04 5.87e-05 1.04e-06 1.31e-06\n",
      " 5.97e-02 6.78e-03 2.57e-06 7.19e-03 3.17e-05 8.09e-01 4.21e-06 4.11e-06\n",
      " 1.94e-05 8.11e-06 1.60e-03 1.65e-06 3.49e-06 1.80e-03 1.68e-06 6.54e-02\n",
      " 2.01e-06 6.92e-06 5.81e-05 3.58e-05 2.82e-01 7.62e-03 5.08e-03 2.61e-03\n",
      " 1.61e-06 7.97e-06 2.63e-05 8.42e-06 1.55e-02 3.69e-05 1.57e-04 1.44e-04\n",
      " 1.19e-04 6.50e-06 4.81e-05 9.72e-02 2.50e-03 3.94e-06 2.16e-06 4.78e-06\n",
      " 3.77e-03 4.79e-04 1.32e-03 5.91e-06 3.27e-06 7.95e-05 4.44e-06 8.23e-06\n",
      " 1.98e-04 4.57e-05 4.88e-05 3.80e-05 1.44e-05 8.55e-04 2.39e-03 2.19e-02\n",
      " 9.82e-06 1.01e-02 7.00e-06 9.33e-05 3.23e-05 3.12e-05 8.31e-05 5.25e-06\n",
      " 1.41e-05 9.91e-05 4.13e-06 3.29e-05 1.32e-01 2.59e-05 8.50e-02 1.30e-05\n",
      " 8.87e-04 6.11e-04 4.84e-03 8.29e-05 7.01e-05 5.05e-05 4.04e-03 3.11e-06\n",
      " 9.86e-03 2.60e-06 6.66e-05 1.26e-02 1.28e-05 1.06e-03 3.72e-03 2.93e-05\n",
      " 1.94e-04 6.00e-05 1.29e-05 1.81e-01 1.78e-06 4.96e-06 9.44e-05 1.47e-05\n",
      " 5.86e-05 2.38e-06 5.45e-02 6.37e-04 1.07e-03 2.55e-06 9.70e-05 1.30e-01\n",
      " 9.27e-04 9.11e-06 6.43e-05 1.36e-06 4.24e-06 4.02e-03 3.01e-06 2.23e-06\n",
      " 4.96e-04 1.25e-03 2.89e-04 2.82e-03 1.62e-05 1.16e-03 1.04e-04 2.12e-06\n",
      " 3.91e-01 1.62e-01 8.72e-04 5.98e-06 8.53e-03 1.59e-04 9.16e-05 1.21e-06\n",
      " 8.02e-04 2.06e-05 1.97e-06 2.44e-03]\n",
      "\n",
      "'tempo' column's unique values:\n",
      " [ 95.053 148.726 136.859 ... 169.994  97.984 102.998]\n",
      "\n"
     ]
    }
   ],
   "source": [
    "for col in spotify_df:\n",
    "    print(\"'{}' column's unique values:\\n\".format(col), spotify_df[col].unique())\n",
    "    print(\"\")"
   ]
  },
  {
   "cell_type": "markdown",
   "id": "ba002a24",
   "metadata": {},
   "source": [
    "According to the results provided by the function, only the `year` variable contained data that did not fit its parameters (years from 2000 to 2019 only). The rest of the variables' unique values fit their respective parameters based on their description.\n",
    "\n",
    "Given this finding, the dataframe could be preprocessed and filtered to include entries only within the valid timeframe through querying."
   ]
  },
  {
   "cell_type": "code",
   "execution_count": 24,
   "id": "6cc864e8",
   "metadata": {},
   "outputs": [
    {
     "data": {
      "text/plain": [
       "(1958, 8)"
      ]
     },
     "execution_count": 24,
     "metadata": {},
     "output_type": "execute_result"
    }
   ],
   "source": [
    "# Select entries that have a release year date from 2000 to 2019 only, then assign back to the dataframe\n",
    "spotify_df = spotify_df[(spotify_df['year'] >= 2000) & (spotify_df['year'] <= 2019)]\n",
    "spotify_df.shape"
   ]
  },
  {
   "cell_type": "markdown",
   "id": "cf352b09",
   "metadata": {},
   "source": [
    "After dropping the invalid records, calling the `shape` of the newly-updated dataset displayed only **1958 remaining entries**. This meant that out of the initial 2000 entries of the dataset, there were **42 invalid entries** removed."
   ]
  },
  {
   "cell_type": "markdown",
   "id": "58386ecf",
   "metadata": {},
   "source": [
    "### Check for Missing Data"
   ]
  },
  {
   "cell_type": "markdown",
   "id": "a68c3c7a",
   "metadata": {},
   "source": [
    "To check for missing data within the dataset, the `isnull()` and `any()` functions can be used to assess if there exists null values per variable represented as `NaN` or `null`. The given function call will list each variable with a boolean value indicating whether it has null values or none."
   ]
  },
  {
   "cell_type": "code",
   "execution_count": 25,
   "id": "5962044a",
   "metadata": {
    "scrolled": true
   },
   "outputs": [
    {
     "data": {
      "text/plain": [
       "artist              False\n",
       "song                False\n",
       "duration_ms         False\n",
       "year                False\n",
       "popularity          False\n",
       "energy              False\n",
       "instrumentalness    False\n",
       "tempo               False\n",
       "dtype: bool"
      ]
     },
     "execution_count": 25,
     "metadata": {},
     "output_type": "execute_result"
    }
   ],
   "source": [
    "spotify_df.isnull().any()"
   ]
  },
  {
   "cell_type": "markdown",
   "id": "7c1e2900",
   "metadata": {},
   "source": [
    "Based on the results provided by the code execution, all the variables in the dataset do not contain any null values."
   ]
  },
  {
   "cell_type": "markdown",
   "id": "fd330eec",
   "metadata": {},
   "source": [
    "### Check for Duplicate Data"
   ]
  },
  {
   "cell_type": "markdown",
   "id": "0f6a40f6",
   "metadata": {},
   "source": [
    "To check for duplicated data within the dataset, the `duplicated()`  and `any()` function can be called to identify whether or not there are duplicate records. The code below will either return a boolean value `True` if there exists repeated records and `False` if there are none."
   ]
  },
  {
   "cell_type": "code",
   "execution_count": 26,
   "id": "af26adef",
   "metadata": {},
   "outputs": [
    {
     "data": {
      "text/plain": [
       "True"
      ]
     },
     "execution_count": 26,
     "metadata": {},
     "output_type": "execute_result"
    }
   ],
   "source": [
    "spotify_df.duplicated().any()"
   ]
  },
  {
   "cell_type": "markdown",
   "id": "17b0975e",
   "metadata": {},
   "source": [
    "Based on the provided result of the function, we can conclude the dataset contains duplicate records. Given this finding, the `drop_duplicates()` function can be used to remove these records."
   ]
  },
  {
   "cell_type": "code",
   "execution_count": 29,
   "id": "f25498c0",
   "metadata": {
    "scrolled": true
   },
   "outputs": [
    {
     "data": {
      "text/plain": [
       "(1899, 8)"
      ]
     },
     "execution_count": 29,
     "metadata": {},
     "output_type": "execute_result"
    }
   ],
   "source": [
    "spotify_df = spotify_df.drop_duplicates()\n",
    "spotify_df.shape"
   ]
  },
  {
   "cell_type": "markdown",
   "id": "a705c767",
   "metadata": {},
   "source": [
    "The new dataset that does not include duplicate records now contain **1899 unique records**. This meant that there were **59 duplicate records** present in the initial dataset."
   ]
  },
  {
   "cell_type": "markdown",
   "id": "7a9edaa2",
   "metadata": {},
   "source": [
    "### Checking for Inconsistent Formatting"
   ]
  },
  {
   "cell_type": "markdown",
   "id": "079deb69",
   "metadata": {},
   "source": [
    "To check if there exists any values in the dataset with inconsistent formatting, the `unique()` function can once again be called. The code below will list down all the unique values in a given variable."
   ]
  },
  {
   "cell_type": "code",
   "execution_count": 30,
   "id": "acb23dd6",
   "metadata": {
    "scrolled": true
   },
   "outputs": [
    {
     "name": "stdout",
     "output_type": "stream",
     "text": [
      "'artist' column's unique values:\n",
      " ['Britney Spears' 'Bon Jovi' '*NSYNC' 'Eminem' 'Robbie Williams' 'Modjo'\n",
      " \"Gigi D'Agostino\" \"Bomfunk MC's\" 'Aaliyah' 'Alice Deejay' 'Linkin Park'\n",
      " 'Sonique' 'M.O.P.' 'Limp Bizkit' 'Darude' 'Da Brat' 'Moloko' 'Chicane'\n",
      " 'Debelah Morgan' 'Madonna' 'Ruff Endz' 'Kylie Minogue' 'LeAnn Rimes'\n",
      " 'Avant' 'Toni Braxton' 'Bow Wow' 'Samantha Mumba' 'Mýa' 'Mary Mary'\n",
      " 'Next' 'Janet Jackson' 'Ricky Martin' 'Jagged Edge' 'JAY-Z' 'Baha Men'\n",
      " 'Oasis' 'DJ Ötzi' 'P!nk' 'Mariah Carey' 'Craig David' 'Sammie' 'Kandi'\n",
      " 'Vengaboys' 'Ronan Keating' '3 Doors Down' 'Carl Thomas' 'Mystikal'\n",
      " 'Fuel' 'Westlife' 'All Saints' \"Destiny's Child\" 'Erykah Badu'\n",
      " 'Matchbox Twenty' 'Gabrielle' 'Backstreet Boys' 'The Corrs' 'Joe' 'Nelly'\n",
      " 'Shaggy' 'Christina Aguilera' 'Nelly Furtado' 'Shakira' 'Jimmy Eat World'\n",
      " 'Train' 'Geri Halliwell' 'Blu Cantrell' 'Missy Elliott' 'Mary J. Blige'\n",
      " 'Faithless' 'Lasgo' 'iio' 'Emma Bunton' '112' 'Blue' 'Jessica Simpson'\n",
      " 'Michael Jackson' 'Eve' 'Jennifer Lopez' 'Brandy' 'Nickelback'\n",
      " 'Daft Punk' 'Outkast' 'Fragma' 'P.O.D.' 'Christina Milian'\n",
      " 'Roger Sanchez' 'Gorillaz' '2Pac' 'Tamia' 'Jamiroquai' 'Case' 'Five'\n",
      " 'Rui Da Silva' 'Alien Ant Farm' 'Erick Sermon' 'D12' 'Usher'\n",
      " 'Atomic Kitten' 'Afroman' 'S Club 7' 'The Supermen Lovers' 'Mis-Teeq'\n",
      " 'Enya' 'Faith Hill' 'Steps' 'Sunshine Anderson' 'Lenny Kravitz'\n",
      " 'Daniel Bedingfield' 'DB Boulevard' 'Ja Rule'\n",
      " 'DJ Pied Piper & The Masters Of Ceremonies' 'Musiq Soulchild'\n",
      " 'So Solid Crew' 'Basement Jaxx' 'Ludacris' 'Trick Daddy' 'Travis' 'OPM'\n",
      " 'K-Ci & JoJo' 'Staind' '3LW' 'Ginuwine' 'Lifehouse' 'Avril Lavigne'\n",
      " 'Vanessa Carlton' 'The Calling' 'No Doubt' 'Truth Hurts' 'Busta Rhymes'\n",
      " 'Diddy' 'Angie Martinez' 'Las Ketchup' 'Holly Valance' 'Sugababes'\n",
      " 'Marilyn Manson' 'Chad Kroeger' 'Scooter' 'Céline Dion'\n",
      " 'Disturbing Tha Peace' 'Khia' 'Tweet' 'Gareth Gates' 'B2K' 'Dirty Vegas'\n",
      " 'Fat Joe' 'Liberty X' 'LL Cool J' 'Red Hot Chili Peppers' 'Sean Paul'\n",
      " 'Faith Evans' 'Charli Baltimore' 'N.O.R.E.' 'Big Brovaz' 'Ashanti'\n",
      " 'Sophie Ellis-Bextor' 'Justin Timberlake' 'A1' 'Delta Goodrem'\n",
      " 'Alicia Keys' 'Coldplay' 'Big Tymers' 'Creed' 'DJ Sammy' 'Cam’ron'\n",
      " 'Elvis Presley' 'Alanis Morissette' 'The Goo Goo Dolls' 'Puddle Of Mudd'\n",
      " \"Blazin' Squad\" 'Default' 'Michelle Branch' 'Enrique Iglesias' '50 Cent'\n",
      " 'Beyoncé' 'Counting Crows' 'Black Eyed Peas' 'Benny Benassi' 'Panjabi MC'\n",
      " 'Jamelia' 'DMX' 'Evanescence' 'Three Days Grace'\n",
      " 'Lil Jon & The East Side Boyz' 'Baby Bash' 'The White Stripes'\n",
      " 'Youngbloodz' \"Lil' Kim\" 'Trapt' 'Simply Red' 'Lumidee' 'Girls Aloud'\n",
      " 'Room 5' 'Fatman Scoop' 'Pharrell Williams' 'Chingy' 'Ultrabeat'\n",
      " 'Frankie J' 'Snoop Dogg' 'Floetry' 'Electric Six' 'Rachel Stevens' 'Nas'\n",
      " 'Tyrese' 'Amanda Perez' 'Kelly Rowland' 'Junior Senior' 'Audioslave'\n",
      " 'Jaheim' 'Monica' 'Dido' 'The Roots' 'Fabolous' 'Kelly Clarkson'\n",
      " 'Switchfoot' 'Good Charlotte' 'Wayne Wonder' 'The Strokes' 'Will Young'\n",
      " 'Maroon 5' 'Hoobastank' 'Anastacia' 'Daddy Yankee' 'O-Zone'\n",
      " 'Terror Squad' 'Gwen Stefani' 'The Rasmus' 'Houston' 'Lloyd Banks' 'Akon'\n",
      " 'Jay Sean' 'Mario Winans' 'Eric Prydz' 'Ciara' 'Kelis' 'Spiderbait'\n",
      " 'George Michael' 'Nina Sky' 'Petey Pablo' 'Juanes' 'Ying Yang Twins'\n",
      " 'JoJo' 'The Shapeshifters' 'Kevin Lyttle' 'T.I.' 'DJ Casper' 'Twista'\n",
      " 'N.E.R.D' 'U2' 'Franz Ferdinand' 'J-Kwon' 'G-Unit' \"Lil' Flip\"\n",
      " 'Kanye West' 'Lemar' 'Green Day' 'Scissor Sisters' 'Special D.' 'Eamon'\n",
      " 'Katie Melua' 'Lloyd' 'LMC' 'The Streets' 'JUVENILE' 'Gary Jules'\n",
      " 'Ashlee Simpson' 'Mario' 'Rihanna' 'James Blunt' 'The Pussycat Dolls'\n",
      " 'Daniel Powter' 'Crazy Frog' 'The Chemical Brothers' 'Fort Minor'\n",
      " 'The Game' 'Chris Brown' 'Bodyrockers' 'Jeezy' 'David Banner'\n",
      " 'Trillville' 'D4L' 'Rob Thomas' 'Brian McFadden' 'Bobby V.'\n",
      " 'Pretty Ricky' 'Amerie' 'Natalie Imbruglia' 'Thirty Seconds To Mars'\n",
      " 'Kaiser Chiefs' 'Ray J' 'Papa Roach' 'Arctic Monkeys' 'Shayne Ward'\n",
      " 'T-Pain' 'Ryan Cabrera' 'Stereophonics' 'KT Tunstall'\n",
      " 'The All-American Rejects' 'Toby Keith' 'Foo Fighters' 'Amy Winehouse'\n",
      " 'Gnarls Barkley' 'Bob Sinclar' 'Chamillionaire' 'Fedde Le Grand'\n",
      " 'Cherish' 'Muse' 'Infernal' 'Cassie' 'E-40' 'Lil Jon' 'Armand Van Helden'\n",
      " 'The Notorious B.I.G.' 'Yung Joc' 'Take That' 'Fergie' 'Cascada' 'Meck'\n",
      " 'Dem Franchize Boyz' 'Fall Out Boy' 'Leona Lewis' 'Nick Lachey' 'Jibbs'\n",
      " 'Rascal Flatts' 'Keyshia Cole' 'Lily Allen' 'Ne-Yo' 'Bubba Sparxxx'\n",
      " 'Hinder' 'The Raconteurs' 'The Fratellis' 'Panic! At The Disco' 'Keane'\n",
      " 'Orson' 'Natasha Bedingfield' 'Razorlight' 'James Morrison' 'Snow Patrol'\n",
      " 'The Fray' 'Sandi Thom' 'My Chemical Romance' 'The Kooks' 'Mark Ronson'\n",
      " \"Plain White T's\" 'Timbaland' 'Ida Corr' 'Alex Gaudino' 'September'\n",
      " 'Gym Class Heroes' 'Soulja Boy' 'Camille Jones' 'Shop Boyz'\n",
      " 'Finger Eleven' 'MiMS' 'Seether' 'Calvin Harris' 'Daughtry' 'Unk'\n",
      " 'Klaxons' 'Baby Boy Da Prince' 'Omarion' 'All Time Low' 'T2' 'Robyn'\n",
      " 'Paramore' 'Huey' 'Plies' 'Jim Jones' 'The Red Jumpsuit Apparatus' 'MIKA'\n",
      " 'Sean Kingston' 'Carrie Underwood' 'Just Jack' 'Bone Thugs-N-Harmony'\n",
      " 'Rich Boy' 'Manic Street Preachers' 'Elliott Yamin' 'Wyclef Jean'\n",
      " 'Boys Like Girls' 'J. Holiday' 'Flo Rida' 'Katy Perry'\n",
      " 'Kardinal Offishall' 'Madcon' 'Guru Josh Project' 'Lil Wayne'\n",
      " 'Basshunter' 'will.i.am' \"Colby O'Donis\" 'Miley Cyrus' 'Alesha Dixon'\n",
      " 'Dizzee Rascal' 'Gabriella Cilmi' 'Jack White' 'The Offspring' 'Estelle'\n",
      " 'Saving Abel' 'Pendulum' 'Danity Kane' 'M.I.A.' 'MGMT' 'The Ting Tings'\n",
      " 'Santana' 'The-Dream' 'Wiley' 'Sam Sparro' 'H \"two\" O' 'Metro Station'\n",
      " 'Trey Songz' 'OneRepublic' 'Alexandra Burke' 'Jordin Sparks'\n",
      " 'Kings of Leon' 'Duffy' 'David Archuleta' 'Gavin DeGraw'\n",
      " 'Jennifer Hudson' 'John Legend' 'Jonas Brothers' 'Lupe Fiasco' 'Adele'\n",
      " 'Lady Gaga' 'David Guetta' 'Taylor Swift' 'Pitbull' 'Skillet'\n",
      " 'The Prodigy' 'Kid Cudi' 'Agnes' 'Jeremih' 'Kevin Rudolf' 'The xx'\n",
      " 'Keri Hilson' 'Cheryl' 'Tinchy Stryder' 'Pixie Lott' 'JLS' '3OH!3'\n",
      " 'A.R. Rahman' 'Drake' 'Selena Gomez & The Scene' 'The Veronicas'\n",
      " 'Jason Derulo' 'Empire of the Sun' 'Cobra Starship' 'La Roux' 'Kasabian'\n",
      " 'Justin Bieber' 'Jamie Foxx' 'Jason Aldean' 'Shinedown' 'Asher Roth'\n",
      " 'Mumford & Sons' 'Bruno Mars' 'Stromae' 'Kesha' 'Taio Cruz' 'INNA'\n",
      " 'Far East Movement' 'Duck Sauce' 'Lucenzo' 'DJ Fresh' 'Edward Maya'\n",
      " 'Sidney Samson' 'Swedish House Mafia' 'Iyaz' 'Waka Flocka Flame'\n",
      " 'Tinie Tempah' 'Mike Posner' 'Yolanda Be Cool' 'Adam Lambert' 'Tim Berg'\n",
      " 'Cali Swag District' \"K'NAAN\" 'DJ Khaled' 'Aloe Blacc' 'B.o.B'\n",
      " 'Shontelle' 'Example' 'Plan B' 'The Saturdays' 'The Wanted'\n",
      " 'Ellie Goulding' 'Two Door Cinema Club' 'Young Money'\n",
      " 'Scouting For Girls' 'Travie McCoy' 'Owl City' 'Lady A' 'Neon Trees'\n",
      " 'Kris Allen' 'Matt Cardle' 'The Band Perry' 'LMFAO' 'Alexandra Stan'\n",
      " 'Lykke Li' 'Wiz Khalifa' 'Sak Noel' 'Olly Murs' 'Jessie J' 'M83'\n",
      " 'Labrinth' 'Dr. Dre' 'Nicole Scherzinger' 'Mann' 'Miguel'\n",
      " 'Diddy - Dirty Money' 'Professor Green' 'Chase & Status' 'Chip'\n",
      " 'Rizzle Kicks' 'Nicki Minaj' 'Mac Miller' 'Foster The People'\n",
      " 'Bad Meets Evil' 'Blake Shelton' 'Hot Chelle Rae' 'Grouplove'\n",
      " 'Christina Perri' 'Charlene Soraia' 'Carly Rae Jepsen' 'fun.' 'DEV'\n",
      " 'Skrillex' 'Kendrick Lamar' 'MARINA' 'PSY' 'Avicii'\n",
      " 'Asaf Avidan & the Mojos' 'Florence + The Machine' 'Azealia Banks'\n",
      " 'James Arthur' 'Michel Teló' 'Otto Knows' 'Icona Pop' 'Tyga' 'Grimes'\n",
      " 'Frank Ocean' 'The Script' 'ScHoolboy Q' 'Rita Ora' 'Alex Clare' 'Alesso'\n",
      " 'Guy Sebastian' 'Gotye' 'One Direction' 'Lana Del Rey' 'Emeli Sandé'\n",
      " 'Disclosure' 'alt-J' 'Rudimental' 'Demi Lovato' 'Little Mix' 'Cher Lloyd'\n",
      " 'Lorde' 'Robin Thicke' 'Imagine Dragons' 'Macklemore & Ryan Lewis'\n",
      " 'Bingo Players' 'Naughty Boy' 'Tom Odell' '2 Chainz' 'Martin Garrix'\n",
      " 'John Newman' 'The Neighbourhood' 'Sebastian Ingrosso' 'Capital Cities'\n",
      " 'Selena Gomez' 'Klangkarussell' 'A$AP Rocky' 'Ylvis' 'Baauer'\n",
      " 'AWOLNATION' 'Duke Dumont' 'Storm Queen' 'Wale' 'Birdy' 'Bastille'\n",
      " 'Bridgit Mendler' 'Zedd' 'Armin van Buuren' 'Of Monsters and Men'\n",
      " 'J. Cole' 'Childish Gambino' 'Passenger' 'Ariana Grande'\n",
      " 'Florida Georgia Line' 'Iggy Azalea' 'Sam Smith' 'MAGIC!' 'Sia' 'ZHU'\n",
      " 'Meghan Trainor' 'Tove Lo' 'Oliver Heldens' 'DJ Snake' 'Tinashe'\n",
      " 'Route 94' 'O.T. Genasis' 'Lilly Wood and The Prick' 'Bobby Shmurda'\n",
      " 'Nico & Vinz' 'Becky G' 'Sigma' 'The Chainsmokers' 'Rixton' 'Klingande'\n",
      " 'Mr. Probz' 'Paloma Faith' 'Kiesza' 'Kid Ink' 'Peking Duk' 'Milky Chance'\n",
      " 'Ed Sheeran' 'Gorgon City' 'MKTO' 'Charli XCX' 'Tiësto'\n",
      " '5 Seconds of Summer' 'G.R.L.' 'Clean Bandit' 'Alex & Sierra' 'Echosmith'\n",
      " 'Natalie La Rose' 'Vance Joy' 'Ella Henderson' 'Sheppard' 'Nick Jonas'\n",
      " 'Major Lazer' 'The Weeknd' 'Deorro' 'Rae Sremmurd' 'Robin Schulz'\n",
      " 'Philip George' 'Rob $tone' 'Lost Frequencies' 'Twenty One Pilots'\n",
      " 'Fifth Harmony' 'KALEO' 'Martin Solveig' 'Felix Jaehn' 'Galantis'\n",
      " 'Zara Larsson' 'Travis Scott' 'Years & Years' 'Lemaitre' 'Pia Mia'\n",
      " 'Silentó' 'The Strumbellas' 'Fetty Wap' 'SAYGRACE' 'X Ambassadors'\n",
      " 'R. City' 'Kygo' 'Tame Impala' 'Hozier' 'Alessia Cara' 'Meek Mill'\n",
      " 'Big Sean' 'Petit Biscuit' 'Shawn Mendes' 'Jack Ü' 'Bryson Tiller'\n",
      " 'Rich Homie Quan' 'Joel Adams' 'Jonas Blue' 'BØRNS' 'Sigala' 'Nicky Jam'\n",
      " 'Desiigner' 'Burak Yeter' 'WILLOW' 'G-Eazy' 'Astrid S' 'Future' 'Alok'\n",
      " 'Jon Bellion' 'Cheat Codes' 'Dua Lipa' 'Alan Walker' 'Kevin Gates'\n",
      " 'Marshmello' 'Fitz and The Tantrums' 'Anne-Marie' 'Charlie Puth'\n",
      " 'AlunaGeorge' 'MNEK' 'Mike Perry' 'Tory Lanez' 'Kungs' 'DNCE' '99 Souls'\n",
      " 'Illy' 'Kiiara' 'ZAYN' 'Steve Aoki' 'Flume' 'PARTYNEXTDOOR'\n",
      " 'Garrett Nash' 'Hilltop Hoods' 'Daya' 'Kent Jones' 'MØ' 'The Lumineers'\n",
      " 'Luis Fonsi' 'Camila Cabello' 'Billie Eilish' 'Lil Peep' 'A$AP Ferg'\n",
      " 'French Montana' '21 Savage' 'Axwell /\\\\ Ingrosso' 'J Balvin' 'Jax Jones'\n",
      " 'Ayo & Teo' 'Lil Uzi Vert' 'Playboi Carti' 'Chord Overstreet'\n",
      " 'Natti Natasha' 'Big Shaq' \"Rag'n'Bone Man\" 'blackbear' 'Lil Pump'\n",
      " 'Kodak Black' 'A Boogie Wit da Hoodie' 'XXXTENTACION' 'Migos' 'Yo Gotti'\n",
      " 'Martin Jensen' 'The Vamps' 'Cardi B' 'Post Malone' 'Zay Hilfigerrr'\n",
      " 'Maggie Lindemann' 'Macklemore' 'Hayden James' 'Liam Payne' 'Starley'\n",
      " 'AJR' 'CNCO' 'Offset' 'Dynoro' 'Juice WRLD' 'Sheck Wes' '6ix9ine'\n",
      " 'Nio Garcia' 'Machine Gun Kelly' 'Jay Rock' 'Rich The Kid' 'Logic' 'EO'\n",
      " 'Dennis Lloyd' 'girl in red' 'Tom Walker' 'Sofía Reyes' 'Loud Luxury'\n",
      " 'NF' 'Maluma' 'Lil Baby' 'Ozuna' 'BlocBoy JB' 'Dean Lewis' 'YG' 'B Young'\n",
      " 'Reik' 'benny blanco' 'MK' 'Banx & Ranx' 'Ella Mai' 'FINNEAS'\n",
      " 'Hugh Jackman' 'Halsey' 'M.O' 'Cashmere Cat' 'Bazzi' 'Lil Dicky' 'Lauv'\n",
      " 'Khalid' 'Lil Nas X' 'Gesaffelstein' 'Regard' 'Lewis Capaldi' 'Mustard'\n",
      " 'NLE Choppa' 'Alec Benjamin' 'BLACKPINK' 'MEDUZA' 'Mabel' 'Saweetie'\n",
      " 'Lil Tecca' 'Russ Millions' 'Doja Cat' 'iann dior' 'Paulo Londra'\n",
      " 'Bad Bunny' 'Polo G' 'Young Thug' 'Anuel AA' 'Flipp Dinero' 'Dave'\n",
      " 'Ava Max' 'Young T & Bugsey' 'Stormzy' 'Tones And I' 'Pedro Capó' 'Lunay'\n",
      " 'Blueface' 'DaBaby' 'AJ Tracey' 'BTS' 'Tyler, The Creator' 'Ashley O'\n",
      " 'Dominic Fike' 'Megan Thee Stallion' 'Sam Feldt' 'Kehlani' 'Sech'\n",
      " 'Normani' 'Joel Corry' 'Blanco Brown']\n",
      "\n",
      "'song' column's unique values:\n",
      " ['Oops!...I Did It Again' \"It's My Life\" 'Bye Bye Bye' ... 'The Git Up'\n",
      " 'Dancing With A Stranger (with Normani)' 'Circles']\n",
      "\n",
      "'duration_ms' column's unique values:\n",
      " [211160 224493 200560 ... 200593 171029 215280]\n",
      "\n",
      "'year' column's unique values:\n",
      " [2000 2001 2011 2002 2016 2018 2004 2010 2015 2006 2008 2019 2003 2013\n",
      " 2005 2012 2007 2009 2017 2014]\n",
      "\n",
      "'popularity' column's unique values:\n",
      " [77 78 65 86 68  1 55 53 73 83 62 54 72 69 47 49 58 52 61 66 36 43 59 64\n",
      " 60  0 70 57 76 74 71 63 50 82 42 48 67 75 26 46 56 51 30 45 87 27 85 40\n",
      "  2 80 35 24 32 79 81  3 38 44 11 16 33 37 39 28  4 21 41 17 34 18  6 88\n",
      " 89 84  8  7]\n",
      "\n",
      "'energy' column's unique values:\n",
      " [0.834  0.913  0.928  0.661  0.772  0.808  0.728  0.922  0.622  0.88\n",
      " 0.864  0.677  0.852  0.965  0.681  0.743  0.72   0.674  0.802  0.641\n",
      " 0.662  0.736  0.48   0.947  0.75   0.632  0.688  0.652  0.796  0.95\n",
      " 0.836  0.887  0.849  0.968  0.732  0.514  0.744  0.734  0.656  0.812\n",
      " 0.847  0.901  0.791  0.865  0.666  0.607  0.831  0.593  0.664  0.602\n",
      " 0.874  0.416  0.83   0.481  0.786  0.82   0.487  0.606  0.911  0.768\n",
      " 0.563  0.801  0.608  0.832  0.638  0.929  0.773  0.843  0.894  0.669\n",
      " 0.551  0.903  0.933  0.981  0.855  0.71   0.737  0.673  0.557  0.869\n",
      " 0.787  0.764  0.697  0.806  0.917  0.79   0.759  0.86   0.729  0.854\n",
      " 0.868  0.694  0.706  0.601  0.837  0.842  0.724  0.579  0.52   0.821\n",
      " 0.964  0.466  0.634  0.8    0.618  0.707  0.581  0.341  0.672  0.679\n",
      " 0.919  0.568  0.702  0.249  0.511  0.899  0.835  0.665  0.925  0.804\n",
      " 0.762  0.715  0.934  0.877  0.587  0.385  0.637  0.316  0.829  0.896\n",
      " 0.7    0.561  0.905  0.844  0.644  0.774  0.723  0.594  0.403  0.858\n",
      " 0.552  0.776  0.825  0.719  0.597  0.731  0.471  0.839  0.797  0.69\n",
      " 0.643  0.923  0.717  0.845  0.876  0.698  0.701  0.654  0.722  0.793\n",
      " 0.691  0.904  0.84   0.751  0.625  0.536  0.745  0.889  0.853  0.614\n",
      " 0.938  0.77   0.761  0.757  0.59   0.863  0.426  0.726  0.872  0.58\n",
      " 0.848  0.811  0.667  0.758  0.515  0.589  0.41   0.749  0.496  0.695\n",
      " 0.9    0.953  0.543  0.767  0.97   0.649  0.807  0.725  0.685  0.748\n",
      " 0.668  0.746  0.769  0.538  0.936  0.588  0.85   0.713  0.824  0.735\n",
      " 0.873  0.687  0.714  0.879  0.678  0.645  0.978  0.943  0.604  0.68\n",
      " 0.34   0.6    0.747  0.469  0.488  0.498  0.658  0.699  0.733  0.657\n",
      " 0.867  0.489  0.705  0.404  0.752  0.813  0.459  0.826  0.775  0.92\n",
      " 0.433  0.74   0.398  0.541  0.862  0.885  0.521  0.636  0.54   0.718\n",
      " 0.78   0.525  0.957  0.615  0.646  0.788  0.93   0.819  0.406  0.445\n",
      " 0.838  0.974  0.671  0.799  0.916  0.948  0.621  0.502  0.647  0.754\n",
      " 0.712  0.655  0.907  0.866  0.513  0.381  0.633  0.628  0.682  0.891\n",
      " 0.785  0.792  0.851  0.284  0.663  0.741  0.387  0.265  0.795  0.988\n",
      " 0.924  0.465  0.739  0.999  0.846  0.653  0.458  0.533  0.888  0.219\n",
      " 0.507  0.756  0.0581 0.476  0.578  0.696  0.64   0.574  0.479  0.631\n",
      " 0.692  0.803  0.659  0.648  0.482  0.599  0.365  0.532  0.66   0.493\n",
      " 0.783  0.439  0.452  0.814  0.55   0.417  0.946  0.639  0.944  0.798\n",
      " 0.912  0.558  0.247  0.501  0.529  0.956  0.358  0.508  0.979  0.583\n",
      " 0.329  0.584  0.554  0.4    0.517  0.898  0.955  0.87   0.721  0.94\n",
      " 0.777  0.823  0.485  0.931  0.817  0.595  0.67   0.921  0.572  0.454\n",
      " 0.484  0.577  0.815  0.504  0.609  0.977  0.886  0.908  0.391  0.62\n",
      " 0.883  0.961  0.562  0.81   0.598  0.742  0.875  0.519  0.516  0.261\n",
      " 0.203  0.624  0.368  0.612  0.291  0.954  0.881  0.711  0.782  0.937\n",
      " 0.45   0.861  0.857  0.709  0.939  0.591  0.967  0.959  0.394  0.438\n",
      " 0.91   0.895  0.422  0.629  0.906  0.708  0.932  0.828  0.789  0.76\n",
      " 0.467  0.549  0.693  0.518  0.428  0.976  0.841  0.984  0.972  0.765\n",
      " 0.571  0.966  0.766  0.524  0.884  0.927  0.322  0.716  0.703  0.462\n",
      " 0.859  0.425  0.617  0.684  0.882  0.822  0.47   0.627  0.443  0.468\n",
      " 0.523  0.486  0.778  0.941  0.945  0.902  0.969  0.89   0.918  0.596\n",
      " 0.492  0.771  0.878  0.675  0.942  0.805  0.605  0.781  0.613  0.753\n",
      " 0.893  0.683  0.497  0.546  0.926  0.856  0.585  0.963  0.566  0.611\n",
      " 0.321  0.348  0.115  0.407  0.689  0.676  0.935  0.339  0.603  0.897\n",
      " 0.784  0.527  0.952  0.44   0.727  0.442  0.686  0.526  0.818  0.985\n",
      " 0.537  0.914  0.816  0.958  0.582  0.794  0.435  0.576  0.534  0.833\n",
      " 0.512  0.61   0.414  0.463  0.871  0.31   0.28   0.42   0.264  0.475\n",
      " 0.65   0.915  0.51   0.522  0.951  0.586  0.738  0.292  0.0549 0.567\n",
      " 0.809  0.73   0.564  0.827  0.427  0.43   0.635  0.302  0.356  0.57\n",
      " 0.378  0.431  0.396  0.331  0.314  0.575  0.412  0.553  0.623  0.275\n",
      " 0.5    0.531  0.372  0.763  0.448  0.318  0.434  0.347  0.437  0.626\n",
      " 0.444  0.451  0.909  0.548  0.449  0.559  0.296  0.366  0.308  0.346\n",
      " 0.473  0.779  0.892  0.408  0.544  0.505  0.56   0.619  0.317  0.405\n",
      " 0.642  0.53   0.539  0.63   0.704  0.364  0.382  0.389 ]\n",
      "\n",
      "'instrumentalness' column's unique values:\n",
      " [1.77e-05 1.35e-05 1.04e-03 0.00e+00 2.93e-02 4.82e-02 3.25e-01 6.91e-01\n",
      " 1.03e-03 3.06e-01 9.85e-01 1.29e-04 5.04e-01 6.45e-04 8.76e-02 4.56e-06\n",
      " 6.19e-05 9.58e-05 3.14e-05 9.79e-05 2.78e-03 6.51e-06 9.31e-06 2.51e-05\n",
      " 4.46e-03 9.51e-03 1.13e-04 3.08e-03 1.24e-04 1.10e-05 3.82e-05 3.41e-04\n",
      " 4.20e-04 3.69e-06 2.24e-06 3.85e-06 8.83e-06 6.80e-05 1.09e-05 1.54e-04\n",
      " 2.34e-06 6.83e-01 1.49e-05 5.38e-06 1.14e-05 7.96e-03 1.34e-04 4.72e-05\n",
      " 2.97e-06 4.12e-05 7.99e-01 8.93e-05 1.85e-02 7.01e-06 8.84e-05 2.27e-04\n",
      " 1.21e-04 3.68e-05 6.76e-02 1.06e-02 2.47e-03 1.08e-01 8.30e-03 2.26e-05\n",
      " 1.46e-01 7.12e-05 3.54e-06 1.16e-02 2.47e-04 2.27e-01 5.12e-03 1.35e-06\n",
      " 2.98e-05 2.12e-05 9.25e-04 4.20e-03 3.16e-04 1.87e-02 8.63e-03 6.61e-01\n",
      " 2.95e-06 1.11e-06 2.09e-06 4.33e-05 5.48e-05 7.46e-02 6.50e-02 3.55e-03\n",
      " 6.04e-06 2.03e-03 1.80e-06 8.14e-06 1.26e-04 2.83e-03 5.49e-04 4.40e-06\n",
      " 1.64e-04 7.74e-06 1.57e-06 1.62e-04 1.75e-04 3.25e-03 1.10e-06 2.86e-03\n",
      " 4.61e-01 6.23e-06 1.83e-06 3.62e-02 1.61e-03 1.40e-03 4.32e-03 4.20e-05\n",
      " 1.65e-05 9.84e-02 6.69e-03 3.70e-06 1.81e-06 8.72e-02 2.19e-05 1.23e-02\n",
      " 1.50e-06 4.61e-05 5.10e-02 1.13e-06 5.39e-06 2.53e-06 5.37e-06 1.16e-05\n",
      " 3.07e-04 3.74e-06 1.22e-04 1.15e-02 8.97e-06 4.31e-06 6.06e-04 2.05e-01\n",
      " 4.82e-03 5.62e-06 2.83e-06 3.57e-05 1.50e-04 5.12e-04 3.03e-03 2.44e-04\n",
      " 4.95e-06 1.32e-06 6.60e-04 5.04e-06 1.45e-01 7.92e-01 4.35e-06 2.06e-06\n",
      " 8.43e-06 2.19e-06 1.69e-06 2.34e-04 4.47e-01 1.16e-06 4.49e-05 1.81e-03\n",
      " 1.89e-06 2.78e-06 2.01e-01 7.12e-01 4.67e-05 6.30e-01 3.05e-06 4.65e-06\n",
      " 1.24e-05 9.37e-05 2.75e-03 3.53e-04 1.42e-06 1.66e-01 1.44e-03 9.25e-05\n",
      " 1.18e-03 4.26e-06 1.06e-01 3.30e-06 4.15e-04 1.60e-06 2.15e-04 7.13e-01\n",
      " 2.50e-02 5.32e-04 1.20e-06 8.19e-06 1.75e-06 5.20e-05 6.24e-06 5.70e-04\n",
      " 2.05e-06 1.56e-03 2.19e-01 1.15e-03 1.52e-06 3.89e-04 2.50e-05 5.91e-01\n",
      " 1.77e-06 1.96e-06 3.31e-04 2.63e-06 4.94e-02 3.46e-02 6.45e-05 5.36e-04\n",
      " 5.13e-06 4.04e-05 2.25e-04 3.07e-06 5.71e-03 4.80e-02 7.44e-04 8.57e-05\n",
      " 1.08e-03 5.10e-04 1.49e-06 7.86e-05 1.67e-02 1.83e-03 5.21e-06 2.24e-03\n",
      " 3.25e-06 3.25e-05 2.96e-04 3.31e-02 4.92e-03 3.40e-04 3.66e-04 4.43e-03\n",
      " 7.70e-04 3.20e-05 1.76e-05 1.54e-05 2.54e-06 3.36e-03 3.37e-06 1.61e-01\n",
      " 6.08e-03 6.93e-01 2.22e-02 2.87e-06 7.88e-05 1.39e-05 2.33e-03 1.46e-02\n",
      " 3.08e-04 8.69e-02 7.60e-04 1.91e-04 1.22e-01 6.97e-03 4.92e-06 1.28e-03\n",
      " 3.75e-05 4.93e-04 2.81e-06 6.17e-06 2.94e-04 3.11e-03 8.59e-03 2.48e-03\n",
      " 6.15e-06 1.09e-03 4.09e-04 9.00e-06 1.66e-04 6.82e-03 1.37e-06 3.45e-02\n",
      " 6.03e-02 4.73e-01 3.09e-04 9.42e-05 5.46e-06 1.51e-06 5.07e-05 7.14e-03\n",
      " 1.08e-04 3.58e-04 1.30e-02 6.13e-05 1.54e-01 5.14e-06 4.94e-05 5.17e-03\n",
      " 6.59e-05 8.66e-03 1.18e-05 1.68e-05 1.20e-05 1.22e-05 1.88e-03 8.34e-06\n",
      " 6.90e-01 7.54e-06 1.28e-04 1.27e-04 3.88e-06 4.28e-03 8.59e-06 1.22e-06\n",
      " 9.16e-03 1.97e-03 3.42e-03 8.55e-03 1.78e-04 3.26e-06 5.66e-02 1.10e-04\n",
      " 8.63e-04 6.78e-04 4.26e-04 1.02e-03 7.51e-01 1.12e-03 6.65e-02 8.14e-04\n",
      " 1.39e-04 5.52e-04 3.50e-02 2.10e-01 2.37e-04 1.28e-06 1.29e-01 2.90e-02\n",
      " 1.64e-06 3.00e-04 1.59e-06 1.55e-03 2.57e-01 6.05e-05 2.21e-04 7.38e-06\n",
      " 1.61e-04 2.05e-05 3.80e-06 3.92e-03 4.52e-05 9.26e-06 4.85e-06 8.52e-06\n",
      " 1.02e-02 1.47e-02 6.64e-03 3.56e-04 2.98e-03 1.13e-05 1.75e-05 8.85e-06\n",
      " 6.72e-03 8.02e-06 4.13e-03 6.96e-03 6.92e-05 3.46e-05 8.12e-01 4.05e-04\n",
      " 1.27e-01 2.02e-03 7.34e-05 7.01e-03 7.74e-05 2.70e-06 3.02e-05 1.48e-01\n",
      " 5.00e-01 7.45e-05 5.16e-06 2.68e-04 4.90e-03 2.68e-03 4.82e-04 2.39e-05\n",
      " 2.18e-02 3.73e-02 5.61e-06 3.09e-06 5.65e-04 3.23e-06 1.04e-02 1.29e-03\n",
      " 1.88e-04 2.43e-05 6.16e-04 2.49e-04 3.81e-04 2.43e-06 1.17e-01 2.17e-05\n",
      " 7.13e-06 4.26e-05 1.86e-05 7.28e-05 1.71e-03 1.62e-02 9.35e-06 5.24e-05\n",
      " 1.45e-06 9.25e-01 4.82e-06 4.27e-04 1.01e-06 1.72e-02 9.89e-03 7.52e-06\n",
      " 6.47e-05 1.49e-01 1.05e-01 7.13e-05 6.40e-02 1.65e-03 3.39e-06 8.18e-06\n",
      " 8.82e-05 1.15e-04 2.46e-05 3.19e-05 4.34e-06 1.07e-05 1.26e-03 4.41e-01\n",
      " 1.97e-01 1.76e-04 3.08e-02 1.86e-02 8.94e-01 1.50e-03 5.32e-06 2.77e-06\n",
      " 8.46e-06 8.17e-04 8.12e-02 9.43e-05 1.11e-05 1.23e-06 4.25e-04 1.43e-06\n",
      " 3.03e-06 6.81e-06 1.42e-05 1.86e-04 5.26e-06 2.25e-01 2.83e-04 4.78e-04\n",
      " 1.60e-04 5.66e-05 1.37e-03 3.40e-05 1.62e-03 3.58e-06 3.27e-03 6.71e-06\n",
      " 7.92e-03 1.89e-05 1.40e-06 8.75e-05 4.31e-05 1.66e-06 5.51e-06 1.67e-03\n",
      " 1.23e-04 1.38e-03 1.71e-05 4.31e-03 1.27e-02 5.11e-06 4.93e-01 4.06e-06\n",
      " 1.15e-01 2.36e-06 1.39e-02 1.03e-02 1.57e-05 5.23e-06 9.61e-04 2.28e-06\n",
      " 7.66e-05 5.30e-06 9.21e-04 2.04e-02 3.22e-05 7.82e-06 4.09e-06 2.69e-05\n",
      " 5.80e-05 5.80e-04 1.25e-04 8.28e-01 1.91e-05 4.07e-06 1.00e-04 4.12e-03\n",
      " 1.20e-04 2.23e-02 1.34e-05 1.96e-05 7.03e-03 2.79e-06 9.01e-01 2.22e-06\n",
      " 5.03e-04 7.71e-03 1.98e-03 1.50e-01 2.25e-06 1.91e-06 5.62e-02 1.68e-04\n",
      " 1.33e-04 6.98e-06 3.87e-06 3.91e-02 1.06e-05 9.45e-05 1.50e-02 8.79e-04\n",
      " 6.12e-05 2.64e-06 1.82e-04 5.56e-04 1.78e-05 1.20e-03 1.07e-06 8.96e-05\n",
      " 6.86e-06 4.45e-01 5.96e-04 1.11e-03 1.77e-02 1.73e-02 5.27e-05 2.10e-04\n",
      " 1.79e-06 6.53e-06 1.64e-05 3.32e-06 6.67e-05 2.50e-04 2.63e-04 9.59e-03\n",
      " 2.02e-02 6.24e-05 1.82e-03 6.09e-01 5.53e-03 1.12e-04 8.73e-06 6.60e-06\n",
      " 4.12e-04 3.84e-05 1.14e-03 7.24e-05 2.03e-04 6.43e-04 1.30e-03 6.39e-05\n",
      " 6.07e-05 1.19e-01 3.86e-04 1.15e-05 2.46e-06 7.20e-01 6.16e-06 9.14e-04\n",
      " 7.43e-06 7.78e-06 5.74e-03 1.28e-01 4.30e-02 1.58e-06 3.59e-05 6.34e-06\n",
      " 8.77e-06 5.69e-02 9.97e-05 4.35e-05 8.68e-04 2.04e-04 3.65e-06 4.64e-05\n",
      " 7.84e-03 1.28e-02 2.58e-03 3.04e-04 2.64e-03 2.03e-06 1.48e-05 8.21e-06\n",
      " 1.25e-05 8.66e-06 2.95e-04 8.15e-05 1.03e-06 1.42e-03 1.23e-03 1.83e-04\n",
      " 1.92e-05 3.78e-06 5.34e-03 1.69e-03 9.01e-02 9.90e-04 7.83e-05 2.29e-05\n",
      " 7.04e-06 8.33e-04 4.09e-03 1.97e-04 5.60e-03 1.93e-03 1.94e-06 1.48e-04\n",
      " 7.88e-03 9.86e-06 1.90e-04 5.87e-05 1.04e-06 1.31e-06 5.97e-02 6.78e-03\n",
      " 2.57e-06 7.19e-03 3.17e-05 8.09e-01 4.21e-06 4.11e-06 1.94e-05 8.11e-06\n",
      " 1.60e-03 1.65e-06 3.49e-06 1.80e-03 1.68e-06 6.54e-02 2.01e-06 6.92e-06\n",
      " 5.81e-05 3.58e-05 2.82e-01 7.62e-03 5.08e-03 2.61e-03 1.61e-06 7.97e-06\n",
      " 2.63e-05 8.42e-06 1.55e-02 3.69e-05 1.57e-04 1.44e-04 1.19e-04 6.50e-06\n",
      " 4.81e-05 9.72e-02 2.50e-03 3.94e-06 2.16e-06 4.78e-06 3.77e-03 4.79e-04\n",
      " 1.32e-03 5.91e-06 3.27e-06 7.95e-05 4.44e-06 8.23e-06 1.98e-04 4.57e-05\n",
      " 4.88e-05 3.80e-05 1.44e-05 8.55e-04 2.39e-03 2.19e-02 9.82e-06 1.01e-02\n",
      " 7.00e-06 9.33e-05 3.23e-05 3.12e-05 8.31e-05 5.25e-06 1.41e-05 9.91e-05\n",
      " 4.13e-06 3.29e-05 1.32e-01 2.59e-05 8.50e-02 1.30e-05 8.87e-04 6.11e-04\n",
      " 4.84e-03 8.29e-05 7.01e-05 5.05e-05 4.04e-03 3.11e-06 9.86e-03 2.60e-06\n",
      " 6.66e-05 1.26e-02 1.28e-05 1.06e-03 3.72e-03 2.93e-05 1.94e-04 6.00e-05\n",
      " 1.29e-05 1.81e-01 1.78e-06 4.96e-06 9.44e-05 1.47e-05 5.86e-05 2.38e-06\n",
      " 5.45e-02 6.37e-04 1.07e-03 2.55e-06 9.70e-05 1.30e-01 9.27e-04 9.11e-06\n",
      " 6.43e-05 1.36e-06 4.24e-06 4.02e-03 3.01e-06 2.23e-06 4.96e-04 1.25e-03\n",
      " 2.89e-04 2.82e-03 1.62e-05 1.16e-03 1.04e-04 2.12e-06 3.91e-01 1.62e-01\n",
      " 8.72e-04 5.98e-06 8.53e-03 1.59e-04 1.21e-06 8.02e-04 2.06e-05 1.97e-06\n",
      " 2.44e-03]\n",
      "\n",
      "'tempo' column's unique values:\n",
      " [ 95.053 119.992 172.656 ... 169.994  97.984 102.998]\n",
      "\n"
     ]
    }
   ],
   "source": [
    "for col in spotify_df:\n",
    "    print(\"'{}' column's unique values:\\n\".format(col), spotify_df[col].unique())\n",
    "    print(\"\")"
   ]
  },
  {
   "cell_type": "markdown",
   "id": "edb4bb95",
   "metadata": {},
   "source": [
    "Upon checking the results, the dataset's variables seems to not contain any values with inconsistencies in its formatting based on their corresponding description."
   ]
  },
  {
   "cell_type": "markdown",
   "id": "bafcb7c4",
   "metadata": {},
   "source": [
    "## Exploratory Data Analysis"
   ]
  },
  {
   "cell_type": "markdown",
   "id": "f3d08fc2",
   "metadata": {},
   "source": [
    "To gain a better understanding of the dataset and obtain a general overview of any potential trends among the various attributes, exploratory data analysis (EDA) is performed. This involves generating numerical summaries and data visualizations to concisely describe the characteristics of the data and generate basic assumptions that can guide the formulation of a specific research question.\n",
    "\n",
    "One of the key variables included in the dataset is the `year` variable, which essentially indicates the year the top hit track got released. Given the dataset's emphasis on analyzing the evolution of the top hits' qualities over time, the variable and its corresponding relationships represent a potential point of interest that the EDA can be revolved around.\n",
    "\n",
    "Among the 18 variables in the dataset, 14 are numerical in nature: `duration_ms`, `year`, `popularity`, `danceability`, `energy`, `key`, `loudness`, `mode`, `speechiness`, `acousticness`, `instrumentalness`, `liveness`, `valence`, and `tempo`. However, the EDA for this notebook will only be focusing on the variables `duration_ms`, `instrumentalness` and `tempo` due to <-- TODO -->. By analyzing the `year` variable in conjunction with the 5 numerical variables the researchers can further narrow down the scope of the EDA as well as maintain some form onf consistency in the data analysis strategies used.\n",
    "\n",
    "With the aforementioned attributes in mind, the following EDA questions are investigated to gain insights into possible patterns associated with the track's release year:\n",
    "\n",
    "1. What is the distribution of songs according to release year?\n",
    "\n",
    "2. What is (a) the distribution of songs according to duration and (b) the average duration of top hits per year?\n",
    "\n",
    "3. What is (a) the distribution of the songs according to their level of instrumentalness and (b) the average instrumentalness level per year?\n",
    "\n",
    "4. What is (a) the distribution of the songs according to their level of tempo and (b) the average tempo level per year?\n",
    "\n",
    "5. What are the relationships between the tracks' duration, instrumentalness, and tempo with the release year?"
   ]
  },
  {
   "cell_type": "markdown",
   "id": "4a5058dd",
   "metadata": {},
   "source": [
    "### Question 1: What is the distribution of top hits according to release year?\n",
    "\n",
    "// What variables will be used?\n",
    "\n"
   ]
  },
  {
   "cell_type": "markdown",
   "id": "178cc27a",
   "metadata": {},
   "source": [
    "#### Numerical Summaries\n",
    "\n",
    "// write me"
   ]
  },
  {
   "cell_type": "code",
   "execution_count": 42,
   "id": "c70e77e3",
   "metadata": {
    "scrolled": false
   },
   "outputs": [
    {
     "data": {
      "text/html": [
       "<div>\n",
       "<style scoped>\n",
       "    .dataframe tbody tr th:only-of-type {\n",
       "        vertical-align: middle;\n",
       "    }\n",
       "\n",
       "    .dataframe tbody tr th {\n",
       "        vertical-align: top;\n",
       "    }\n",
       "\n",
       "    .dataframe thead th {\n",
       "        text-align: right;\n",
       "    }\n",
       "</style>\n",
       "<table border=\"1\" class=\"dataframe\">\n",
       "  <thead>\n",
       "    <tr style=\"text-align: right;\">\n",
       "      <th></th>\n",
       "      <th>index</th>\n",
       "      <th>songs</th>\n",
       "    </tr>\n",
       "  </thead>\n",
       "  <tbody>\n",
       "    <tr>\n",
       "      <th>0</th>\n",
       "      <td>2012</td>\n",
       "      <td>113</td>\n",
       "    </tr>\n",
       "    <tr>\n",
       "      <th>1</th>\n",
       "      <td>2017</td>\n",
       "      <td>110</td>\n",
       "    </tr>\n",
       "    <tr>\n",
       "      <th>2</th>\n",
       "      <td>2001</td>\n",
       "      <td>106</td>\n",
       "    </tr>\n",
       "    <tr>\n",
       "      <th>3</th>\n",
       "      <td>2018</td>\n",
       "      <td>104</td>\n",
       "    </tr>\n",
       "    <tr>\n",
       "      <th>4</th>\n",
       "      <td>2010</td>\n",
       "      <td>103</td>\n",
       "    </tr>\n",
       "    <tr>\n",
       "      <th>5</th>\n",
       "      <td>2005</td>\n",
       "      <td>101</td>\n",
       "    </tr>\n",
       "    <tr>\n",
       "      <th>6</th>\n",
       "      <td>2014</td>\n",
       "      <td>100</td>\n",
       "    </tr>\n",
       "    <tr>\n",
       "      <th>7</th>\n",
       "      <td>2016</td>\n",
       "      <td>98</td>\n",
       "    </tr>\n",
       "    <tr>\n",
       "      <th>8</th>\n",
       "      <td>2011</td>\n",
       "      <td>96</td>\n",
       "    </tr>\n",
       "    <tr>\n",
       "      <th>9</th>\n",
       "      <td>2004</td>\n",
       "      <td>95</td>\n",
       "    </tr>\n",
       "    <tr>\n",
       "      <th>10</th>\n",
       "      <td>2015</td>\n",
       "      <td>93</td>\n",
       "    </tr>\n",
       "    <tr>\n",
       "      <th>11</th>\n",
       "      <td>2006</td>\n",
       "      <td>93</td>\n",
       "    </tr>\n",
       "    <tr>\n",
       "      <th>12</th>\n",
       "      <td>2008</td>\n",
       "      <td>91</td>\n",
       "    </tr>\n",
       "    <tr>\n",
       "      <th>13</th>\n",
       "      <td>2003</td>\n",
       "      <td>91</td>\n",
       "    </tr>\n",
       "    <tr>\n",
       "      <th>14</th>\n",
       "      <td>2007</td>\n",
       "      <td>90</td>\n",
       "    </tr>\n",
       "    <tr>\n",
       "      <th>15</th>\n",
       "      <td>2019</td>\n",
       "      <td>89</td>\n",
       "    </tr>\n",
       "    <tr>\n",
       "      <th>16</th>\n",
       "      <td>2013</td>\n",
       "      <td>87</td>\n",
       "    </tr>\n",
       "    <tr>\n",
       "      <th>17</th>\n",
       "      <td>2002</td>\n",
       "      <td>86</td>\n",
       "    </tr>\n",
       "    <tr>\n",
       "      <th>18</th>\n",
       "      <td>2009</td>\n",
       "      <td>82</td>\n",
       "    </tr>\n",
       "    <tr>\n",
       "      <th>19</th>\n",
       "      <td>2000</td>\n",
       "      <td>71</td>\n",
       "    </tr>\n",
       "  </tbody>\n",
       "</table>\n",
       "</div>"
      ],
      "text/plain": [
       "    index  songs\n",
       "0    2012    113\n",
       "1    2017    110\n",
       "2    2001    106\n",
       "3    2018    104\n",
       "4    2010    103\n",
       "5    2005    101\n",
       "6    2014    100\n",
       "7    2016     98\n",
       "8    2011     96\n",
       "9    2004     95\n",
       "10   2015     93\n",
       "11   2006     93\n",
       "12   2008     91\n",
       "13   2003     91\n",
       "14   2007     90\n",
       "15   2019     89\n",
       "16   2013     87\n",
       "17   2002     86\n",
       "18   2009     82\n",
       "19   2000     71"
      ]
     },
     "execution_count": 42,
     "metadata": {},
     "output_type": "execute_result"
    }
   ],
   "source": [
    "songs_per_year = spotify_df.year.value_counts().reset_index(name='songs')\n",
    "songs_per_year"
   ]
  },
  {
   "cell_type": "markdown",
   "id": "621789e0",
   "metadata": {},
   "source": [
    "#### Data Visualization"
   ]
  },
  {
   "cell_type": "markdown",
   "id": "751baa90",
   "metadata": {},
   "source": [
    "*Bar Plot*\n",
    "\n",
    "// write me"
   ]
  },
  {
   "cell_type": "code",
   "execution_count": 47,
   "id": "c1a16a82",
   "metadata": {
    "scrolled": true
   },
   "outputs": [
    {
     "ename": "ValueError",
     "evalue": "Could not interpret input 'year'",
     "output_type": "error",
     "traceback": [
      "\u001b[0;31m---------------------------------------------------------------------------\u001b[0m",
      "\u001b[0;31mValueError\u001b[0m                                Traceback (most recent call last)",
      "Cell \u001b[0;32mIn[47], line 3\u001b[0m\n\u001b[1;32m      1\u001b[0m \u001b[38;5;66;03m# bar plot of the number of songs per year\u001b[39;00m\n\u001b[1;32m      2\u001b[0m plt\u001b[38;5;241m.\u001b[39mfigure(figsize\u001b[38;5;241m=\u001b[39m(\u001b[38;5;241m12\u001b[39m, \u001b[38;5;241m5\u001b[39m))\n\u001b[0;32m----> 3\u001b[0m ax \u001b[38;5;241m=\u001b[39m sb\u001b[38;5;241m.\u001b[39mbarplot(x \u001b[38;5;241m=\u001b[39m \u001b[38;5;124m'\u001b[39m\u001b[38;5;124myear\u001b[39m\u001b[38;5;124m'\u001b[39m, y \u001b[38;5;241m=\u001b[39m\u001b[38;5;124m'\u001b[39m\u001b[38;5;124msongs\u001b[39m\u001b[38;5;124m'\u001b[39m, data \u001b[38;5;241m=\u001b[39m songs_per_year, color\u001b[38;5;241m=\u001b[39m\u001b[38;5;124m'\u001b[39m\u001b[38;5;124mpink\u001b[39m\u001b[38;5;124m'\u001b[39m)\n\u001b[1;32m      5\u001b[0m \u001b[38;5;66;03m# add labels\u001b[39;00m\n\u001b[1;32m      6\u001b[0m plt\u001b[38;5;241m.\u001b[39mtitle(\u001b[38;5;124m'\u001b[39m\u001b[38;5;124mNumber of Top Hit Songs per Year\u001b[39m\u001b[38;5;124m'\u001b[39m)\n",
      "File \u001b[0;32m~/anaconda3/lib/python3.11/site-packages/seaborn/categorical.py:2755\u001b[0m, in \u001b[0;36mbarplot\u001b[0;34m(data, x, y, hue, order, hue_order, estimator, errorbar, n_boot, units, seed, orient, color, palette, saturation, width, errcolor, errwidth, capsize, dodge, ci, ax, **kwargs)\u001b[0m\n\u001b[1;32m   2752\u001b[0m \u001b[38;5;28;01mif\u001b[39;00m estimator \u001b[38;5;129;01mis\u001b[39;00m \u001b[38;5;28mlen\u001b[39m:\n\u001b[1;32m   2753\u001b[0m     estimator \u001b[38;5;241m=\u001b[39m \u001b[38;5;124m\"\u001b[39m\u001b[38;5;124msize\u001b[39m\u001b[38;5;124m\"\u001b[39m\n\u001b[0;32m-> 2755\u001b[0m plotter \u001b[38;5;241m=\u001b[39m _BarPlotter(x, y, hue, data, order, hue_order,\n\u001b[1;32m   2756\u001b[0m                       estimator, errorbar, n_boot, units, seed,\n\u001b[1;32m   2757\u001b[0m                       orient, color, palette, saturation,\n\u001b[1;32m   2758\u001b[0m                       width, errcolor, errwidth, capsize, dodge)\n\u001b[1;32m   2760\u001b[0m \u001b[38;5;28;01mif\u001b[39;00m ax \u001b[38;5;129;01mis\u001b[39;00m \u001b[38;5;28;01mNone\u001b[39;00m:\n\u001b[1;32m   2761\u001b[0m     ax \u001b[38;5;241m=\u001b[39m plt\u001b[38;5;241m.\u001b[39mgca()\n",
      "File \u001b[0;32m~/anaconda3/lib/python3.11/site-packages/seaborn/categorical.py:1530\u001b[0m, in \u001b[0;36m_BarPlotter.__init__\u001b[0;34m(self, x, y, hue, data, order, hue_order, estimator, errorbar, n_boot, units, seed, orient, color, palette, saturation, width, errcolor, errwidth, capsize, dodge)\u001b[0m\n\u001b[1;32m   1525\u001b[0m \u001b[38;5;28;01mdef\u001b[39;00m \u001b[38;5;21m__init__\u001b[39m(\u001b[38;5;28mself\u001b[39m, x, y, hue, data, order, hue_order,\n\u001b[1;32m   1526\u001b[0m              estimator, errorbar, n_boot, units, seed,\n\u001b[1;32m   1527\u001b[0m              orient, color, palette, saturation, width,\n\u001b[1;32m   1528\u001b[0m              errcolor, errwidth, capsize, dodge):\n\u001b[1;32m   1529\u001b[0m \u001b[38;5;250m    \u001b[39m\u001b[38;5;124;03m\"\"\"Initialize the plotter.\"\"\"\u001b[39;00m\n\u001b[0;32m-> 1530\u001b[0m     \u001b[38;5;28mself\u001b[39m\u001b[38;5;241m.\u001b[39mestablish_variables(x, y, hue, data, orient,\n\u001b[1;32m   1531\u001b[0m                              order, hue_order, units)\n\u001b[1;32m   1532\u001b[0m     \u001b[38;5;28mself\u001b[39m\u001b[38;5;241m.\u001b[39mestablish_colors(color, palette, saturation)\n\u001b[1;32m   1533\u001b[0m     \u001b[38;5;28mself\u001b[39m\u001b[38;5;241m.\u001b[39mestimate_statistic(estimator, errorbar, n_boot, seed)\n",
      "File \u001b[0;32m~/anaconda3/lib/python3.11/site-packages/seaborn/categorical.py:541\u001b[0m, in \u001b[0;36m_CategoricalPlotter.establish_variables\u001b[0;34m(self, x, y, hue, data, orient, order, hue_order, units)\u001b[0m\n\u001b[1;32m    539\u001b[0m     \u001b[38;5;28;01mif\u001b[39;00m \u001b[38;5;28misinstance\u001b[39m(var, \u001b[38;5;28mstr\u001b[39m):\n\u001b[1;32m    540\u001b[0m         err \u001b[38;5;241m=\u001b[39m \u001b[38;5;124mf\u001b[39m\u001b[38;5;124m\"\u001b[39m\u001b[38;5;124mCould not interpret input \u001b[39m\u001b[38;5;124m'\u001b[39m\u001b[38;5;132;01m{\u001b[39;00mvar\u001b[38;5;132;01m}\u001b[39;00m\u001b[38;5;124m'\u001b[39m\u001b[38;5;124m\"\u001b[39m\n\u001b[0;32m--> 541\u001b[0m         \u001b[38;5;28;01mraise\u001b[39;00m \u001b[38;5;167;01mValueError\u001b[39;00m(err)\n\u001b[1;32m    543\u001b[0m \u001b[38;5;66;03m# Figure out the plotting orientation\u001b[39;00m\n\u001b[1;32m    544\u001b[0m orient \u001b[38;5;241m=\u001b[39m infer_orient(\n\u001b[1;32m    545\u001b[0m     x, y, orient, require_numeric\u001b[38;5;241m=\u001b[39m\u001b[38;5;28mself\u001b[39m\u001b[38;5;241m.\u001b[39mrequire_numeric\n\u001b[1;32m    546\u001b[0m )\n",
      "\u001b[0;31mValueError\u001b[0m: Could not interpret input 'year'"
     ]
    },
    {
     "data": {
      "text/plain": [
       "<Figure size 1200x500 with 0 Axes>"
      ]
     },
     "metadata": {},
     "output_type": "display_data"
    }
   ],
   "source": [
    "# bar plot of the number of songs per year\n",
    "plt.figure(figsize=(12, 5))\n",
    "ax = sb.barplot(x = 'year', y ='songs', data = songs_per_year, color='pink')\n",
    "\n",
    "# add labels\n",
    "plt.title('Number of Top Hit Songs per Year')\n",
    "plt.xlabel('Release Year')\n",
    "plt.ylabel('Number of Top Hits')\n",
    "plt.xticks(rotation = 50)\n",
    "\n",
    "# label on top of each bar\n",
    "for container in ax.containers:\n",
    "    ax.bar_label(container, size=15)\n",
    "\n",
    "plt.show()"
   ]
  },
  {
   "cell_type": "markdown",
   "id": "54119b1f",
   "metadata": {},
   "source": [
    "// post interpretation"
   ]
  },
  {
   "cell_type": "markdown",
   "id": "a6e581a5",
   "metadata": {},
   "source": [
    "### Question 2: What is (a) the distribution of songs according to duration and (b) the average duration of top hits per year?\n",
    "\n",
    "// write me"
   ]
  },
  {
   "cell_type": "markdown",
   "id": "73d0971e",
   "metadata": {},
   "source": [
    "#### Numerical Summaries\n",
    "\n",
    "// mean of duration per year"
   ]
  },
  {
   "cell_type": "code",
   "execution_count": 45,
   "id": "0cee27db",
   "metadata": {},
   "outputs": [
    {
     "data": {
      "text/html": [
       "<div>\n",
       "<style scoped>\n",
       "    .dataframe tbody tr th:only-of-type {\n",
       "        vertical-align: middle;\n",
       "    }\n",
       "\n",
       "    .dataframe tbody tr th {\n",
       "        vertical-align: top;\n",
       "    }\n",
       "\n",
       "    .dataframe thead th {\n",
       "        text-align: right;\n",
       "    }\n",
       "</style>\n",
       "<table border=\"1\" class=\"dataframe\">\n",
       "  <thead>\n",
       "    <tr style=\"text-align: right;\">\n",
       "      <th></th>\n",
       "      <th>year</th>\n",
       "      <th>min:sec</th>\n",
       "    </tr>\n",
       "  </thead>\n",
       "  <tbody>\n",
       "    <tr>\n",
       "      <th>0</th>\n",
       "      <td>2000</td>\n",
       "      <td>4:10</td>\n",
       "    </tr>\n",
       "    <tr>\n",
       "      <th>1</th>\n",
       "      <td>2001</td>\n",
       "      <td>4:2</td>\n",
       "    </tr>\n",
       "    <tr>\n",
       "      <th>2</th>\n",
       "      <td>2002</td>\n",
       "      <td>4:11</td>\n",
       "    </tr>\n",
       "    <tr>\n",
       "      <th>3</th>\n",
       "      <td>2003</td>\n",
       "      <td>3:56</td>\n",
       "    </tr>\n",
       "    <tr>\n",
       "      <th>4</th>\n",
       "      <td>2004</td>\n",
       "      <td>3:53</td>\n",
       "    </tr>\n",
       "    <tr>\n",
       "      <th>5</th>\n",
       "      <td>2005</td>\n",
       "      <td>3:57</td>\n",
       "    </tr>\n",
       "    <tr>\n",
       "      <th>6</th>\n",
       "      <td>2006</td>\n",
       "      <td>3:58</td>\n",
       "    </tr>\n",
       "    <tr>\n",
       "      <th>7</th>\n",
       "      <td>2007</td>\n",
       "      <td>3:52</td>\n",
       "    </tr>\n",
       "    <tr>\n",
       "      <th>8</th>\n",
       "      <td>2008</td>\n",
       "      <td>3:54</td>\n",
       "    </tr>\n",
       "    <tr>\n",
       "      <th>9</th>\n",
       "      <td>2009</td>\n",
       "      <td>3:55</td>\n",
       "    </tr>\n",
       "    <tr>\n",
       "      <th>10</th>\n",
       "      <td>2010</td>\n",
       "      <td>3:40</td>\n",
       "    </tr>\n",
       "    <tr>\n",
       "      <th>11</th>\n",
       "      <td>2011</td>\n",
       "      <td>3:48</td>\n",
       "    </tr>\n",
       "    <tr>\n",
       "      <th>12</th>\n",
       "      <td>2012</td>\n",
       "      <td>3:43</td>\n",
       "    </tr>\n",
       "    <tr>\n",
       "      <th>13</th>\n",
       "      <td>2013</td>\n",
       "      <td>3:50</td>\n",
       "    </tr>\n",
       "    <tr>\n",
       "      <th>14</th>\n",
       "      <td>2014</td>\n",
       "      <td>3:39</td>\n",
       "    </tr>\n",
       "    <tr>\n",
       "      <th>15</th>\n",
       "      <td>2015</td>\n",
       "      <td>3:39</td>\n",
       "    </tr>\n",
       "    <tr>\n",
       "      <th>16</th>\n",
       "      <td>2016</td>\n",
       "      <td>3:40</td>\n",
       "    </tr>\n",
       "    <tr>\n",
       "      <th>17</th>\n",
       "      <td>2017</td>\n",
       "      <td>3:32</td>\n",
       "    </tr>\n",
       "    <tr>\n",
       "      <th>18</th>\n",
       "      <td>2018</td>\n",
       "      <td>3:28</td>\n",
       "    </tr>\n",
       "    <tr>\n",
       "      <th>19</th>\n",
       "      <td>2019</td>\n",
       "      <td>3:16</td>\n",
       "    </tr>\n",
       "  </tbody>\n",
       "</table>\n",
       "</div>"
      ],
      "text/plain": [
       "    year min:sec\n",
       "0   2000    4:10\n",
       "1   2001     4:2\n",
       "2   2002    4:11\n",
       "3   2003    3:56\n",
       "4   2004    3:53\n",
       "5   2005    3:57\n",
       "6   2006    3:58\n",
       "7   2007    3:52\n",
       "8   2008    3:54\n",
       "9   2009    3:55\n",
       "10  2010    3:40\n",
       "11  2011    3:48\n",
       "12  2012    3:43\n",
       "13  2013    3:50\n",
       "14  2014    3:39\n",
       "15  2015    3:39\n",
       "16  2016    3:40\n",
       "17  2017    3:32\n",
       "18  2018    3:28\n",
       "19  2019    3:16"
      ]
     },
     "execution_count": 45,
     "metadata": {},
     "output_type": "execute_result"
    }
   ],
   "source": [
    "# convert ms to min:sec\n",
    "def ms_to_min_sec(ms):\n",
    "    minutes = int(ms / 60000)\n",
    "    seconds = int((ms % 60000) / 1000)\n",
    "    return str(minutes) + \":\" + str(seconds)\n",
    "\n",
    "# Organizing a dataframe with the average duration of the top hits from the analyzed period\n",
    "average_duration = spotify_df[['duration_ms','year']].groupby('year').mean().reset_index()\n",
    "average_duration['min:sec'] = average_duration['duration_ms'].apply(ms_to_min_sec)\n",
    "average_duration[['year','min:sec']]"
   ]
  },
  {
   "cell_type": "markdown",
   "id": "7553e9a1",
   "metadata": {},
   "source": [
    "// post interpretation"
   ]
  },
  {
   "cell_type": "markdown",
   "id": "741709ec",
   "metadata": {},
   "source": [
    "#### Data Visualization"
   ]
  },
  {
   "cell_type": "markdown",
   "id": "8344d115",
   "metadata": {},
   "source": [
    "*Scatterplot*\n",
    "\n",
    "write me"
   ]
  },
  {
   "cell_type": "code",
   "execution_count": 46,
   "id": "66c66b1a",
   "metadata": {
    "scrolled": false
   },
   "outputs": [
    {
     "data": {
      "text/plain": [
       "Text(0.2500000000000018, 0.5, 'Duration (ms)')"
      ]
     },
     "execution_count": 46,
     "metadata": {},
     "output_type": "execute_result"
    },
    {
     "data": {
      "image/png": "[encoded data removed]",
      "text/plain": [
       "<Figure size 1200x800 with 1 Axes>"
      ]
     },
     "metadata": {},
     "output_type": "display_data"
    }
   ],
   "source": [
    "# generate scatter plot with trendline\n",
    "scatter = sb.lmplot(x = 'year', y = 'duration_ms', data = spotify_df, height = 5, aspect = 2, truncate = False, scatter_kws = {'s': 100, 'alpha': 0.3, 'color': 'green'}, line_kws = {'color': 'purple'})\n",
    "\n",
    "# adjust size\n",
    "scatter.figure.set_size_inches(12, 8)\n",
    "\n",
    "# add labels\n",
    "plt.title('Duration of Top Hit Songs through the Years')\n",
    "plt.xlabel('Release Year')\n",
    "plt.xticks(np.arange(2000, 2020, 2))\n",
    "plt.ylabel('Duration (ms)')"
   ]
  },
  {
   "cell_type": "markdown",
   "id": "1e4b240a",
   "metadata": {},
   "source": [
    "// post interpretation"
   ]
  },
  {
   "cell_type": "markdown",
   "id": "d85dd1a9",
   "metadata": {},
   "source": [
    "### Question 3: What is (a) the distribution of the songs according to their level of instrumentalness and (b) the average instrumentalness level per year?\n",
    "\n",
    "// write me"
   ]
  },
  {
   "cell_type": "markdown",
   "id": "11d78073",
   "metadata": {},
   "source": [
    "#### Numerical Summaries\n",
    "\n",
    "// mean median std"
   ]
  },
  {
   "cell_type": "code",
   "execution_count": 48,
   "id": "33d3becf",
   "metadata": {},
   "outputs": [
    {
     "data": {
      "text/html": [
       "<div>\n",
       "<style scoped>\n",
       "    .dataframe tbody tr th:only-of-type {\n",
       "        vertical-align: middle;\n",
       "    }\n",
       "\n",
       "    .dataframe tbody tr th {\n",
       "        vertical-align: top;\n",
       "    }\n",
       "\n",
       "    .dataframe thead th {\n",
       "        text-align: right;\n",
       "    }\n",
       "</style>\n",
       "<table border=\"1\" class=\"dataframe\">\n",
       "  <thead>\n",
       "    <tr style=\"text-align: right;\">\n",
       "      <th></th>\n",
       "      <th>instrumentalness</th>\n",
       "    </tr>\n",
       "  </thead>\n",
       "  <tbody>\n",
       "    <tr>\n",
       "      <th>mean</th>\n",
       "      <td>0.015525</td>\n",
       "    </tr>\n",
       "    <tr>\n",
       "      <th>median</th>\n",
       "      <td>0.000000</td>\n",
       "    </tr>\n",
       "    <tr>\n",
       "      <th>std</th>\n",
       "      <td>0.089036</td>\n",
       "    </tr>\n",
       "  </tbody>\n",
       "</table>\n",
       "</div>"
      ],
      "text/plain": [
       "        instrumentalness\n",
       "mean            0.015525\n",
       "median          0.000000\n",
       "std             0.089036"
      ]
     },
     "execution_count": 48,
     "metadata": {},
     "output_type": "execute_result"
    }
   ],
   "source": [
    "# get the mean median and std\n",
    "spotify_df.agg({'instrumentalness': ['mean', 'median', 'std']})\n"
   ]
  },
  {
   "cell_type": "markdown",
   "id": "f38347f4",
   "metadata": {},
   "source": [
    "post interpretation"
   ]
  },
  {
   "cell_type": "markdown",
   "id": "94ae7a74",
   "metadata": {},
   "source": [
    "#### Data Visualization"
   ]
  },
  {
   "cell_type": "markdown",
   "id": "70968a5c",
   "metadata": {},
   "source": [
    "*Histogram*\n",
    "\n",
    "write me"
   ]
  },
  {
   "cell_type": "code",
   "execution_count": 49,
   "id": "dd7074be",
   "metadata": {},
   "outputs": [
    {
     "data": {
      "text/plain": [
       "Text(0, 0.5, 'Number of Top Hits')"
      ]
     },
     "execution_count": 49,
     "metadata": {},
     "output_type": "execute_result"
    },
    {
     "data": {
      "image/png": "[encoded data removed]",
      "text/plain": [
       "<Figure size 1200x500 with 1 Axes>"
      ]
     },
     "metadata": {},
     "output_type": "display_data"
    }
   ],
   "source": [
    "# generate the histogram\n",
    "plt.figure(figsize=(12, 5))\n",
    "ax = sb.histplot(data = spotify_df, x = 'instrumentalness', bins = 30, color = 'pink')\n",
    "\n",
    "# add vertical line\n",
    "plt.axvline(x = np.mean(spotify_df.instrumentalness), color = 'black', linestyle = '--')\n",
    "plt.text(x = np.mean(spotify_df.instrumentalness) + 0.01, y = 200, s = '0.02 Mean', color = 'black', fontsize = 12)\n",
    "\n",
    "# add labels\n",
    "plt.title('Instrumentalness Distribution of Top Hit Songs')\n",
    "plt.xlabel('Instrumentalness')\n",
    "plt.xticks(np.arange(0, 1.1, 0.1))\n",
    "plt.ylabel('Number of Top Hits')\n"
   ]
  },
  {
   "cell_type": "markdown",
   "id": "5fe6cb80",
   "metadata": {},
   "source": []
  },
  {
   "cell_type": "markdown",
   "id": "2ed3bc6e",
   "metadata": {},
   "source": [
    "### Question 4: What is (a) the distribution of the songs according to their level of tempo and (b) the average tempo level per year?"
   ]
  },
  {
   "cell_type": "markdown",
   "id": "2a92bba8",
   "metadata": {},
   "source": [
    "#### Numerical Summaries\n",
    "\n",
    "// write me"
   ]
  },
  {
   "cell_type": "code",
   "execution_count": 50,
   "id": "5ce8f1df",
   "metadata": {},
   "outputs": [
    {
     "data": {
      "text/html": [
       "<div>\n",
       "<style scoped>\n",
       "    .dataframe tbody tr th:only-of-type {\n",
       "        vertical-align: middle;\n",
       "    }\n",
       "\n",
       "    .dataframe tbody tr th {\n",
       "        vertical-align: top;\n",
       "    }\n",
       "\n",
       "    .dataframe thead th {\n",
       "        text-align: right;\n",
       "    }\n",
       "</style>\n",
       "<table border=\"1\" class=\"dataframe\">\n",
       "  <thead>\n",
       "    <tr style=\"text-align: right;\">\n",
       "      <th></th>\n",
       "      <th>tempo</th>\n",
       "    </tr>\n",
       "  </thead>\n",
       "  <tbody>\n",
       "    <tr>\n",
       "      <th>mean</th>\n",
       "      <td>120.115425</td>\n",
       "    </tr>\n",
       "    <tr>\n",
       "      <th>median</th>\n",
       "      <td>120.028000</td>\n",
       "    </tr>\n",
       "    <tr>\n",
       "      <th>std</th>\n",
       "      <td>26.986107</td>\n",
       "    </tr>\n",
       "  </tbody>\n",
       "</table>\n",
       "</div>"
      ],
      "text/plain": [
       "             tempo\n",
       "mean    120.115425\n",
       "median  120.028000\n",
       "std      26.986107"
      ]
     },
     "execution_count": 50,
     "metadata": {},
     "output_type": "execute_result"
    }
   ],
   "source": [
    "# get the mean median and std\n",
    "spotify_df.agg({'tempo': ['mean', 'median', 'std']})\n"
   ]
  },
  {
   "cell_type": "markdown",
   "id": "530e2250",
   "metadata": {},
   "source": [
    "#### Data Visualization"
   ]
  },
  {
   "cell_type": "markdown",
   "id": "d5513aac",
   "metadata": {},
   "source": [
    "*Histogram*\n",
    "\n",
    "// write me"
   ]
  },
  {
   "cell_type": "code",
   "execution_count": 51,
   "id": "4b114ade",
   "metadata": {},
   "outputs": [
    {
     "data": {
      "text/plain": [
       "Text(0, 0.5, 'Number of Top Hits')"
      ]
     },
     "execution_count": 51,
     "metadata": {},
     "output_type": "execute_result"
    },
    {
     "data": {
      "image/png": "[encoded data removed]",
      "text/plain": [
       "<Figure size 1200x500 with 1 Axes>"
      ]
     },
     "metadata": {},
     "output_type": "display_data"
    }
   ],
   "source": [
    "# generate the histogram\n",
    "plt.figure(figsize=(12, 5))\n",
    "ax = sb.histplot(data = spotify_df, x = 'tempo', bins = 30, color = 'pink')\n",
    "\n",
    "# add vertical line\n",
    "plt.axvline(x = np.mean(spotify_df.tempo), color = 'black', linestyle = '--')\n",
    "plt.text(x = np.mean(spotify_df.tempo) + 0.01, y = 200, s = '120.12 bpm Mean', color = 'black', fontsize = 12)\n",
    "\n",
    "# add labels\n",
    "plt.title('Instrumentalness Distribution of Top Hit Songs')\n",
    "plt.xlabel('Instrumentalness')\n",
    "plt.ylabel('Number of Top Hits')\n"
   ]
  },
  {
   "cell_type": "markdown",
   "id": "58e15bd4",
   "metadata": {},
   "source": [
    "post interpretation"
   ]
  },
  {
   "cell_type": "markdown",
   "id": "fc72c550",
   "metadata": {},
   "source": [
    "### Question 5: What are the relationships between the tracks' duration, instrumentalness, and tempo with the release year?"
   ]
  },
  {
   "cell_type": "markdown",
   "id": "53c4c21e",
   "metadata": {},
   "source": [
    "#### Numerical Summaries"
   ]
  },
  {
   "cell_type": "code",
   "execution_count": 52,
   "id": "52b48d54",
   "metadata": {},
   "outputs": [
    {
     "data": {
      "text/html": [
       "<div>\n",
       "<style scoped>\n",
       "    .dataframe tbody tr th:only-of-type {\n",
       "        vertical-align: middle;\n",
       "    }\n",
       "\n",
       "    .dataframe tbody tr th {\n",
       "        vertical-align: top;\n",
       "    }\n",
       "\n",
       "    .dataframe thead th {\n",
       "        text-align: right;\n",
       "    }\n",
       "</style>\n",
       "<table border=\"1\" class=\"dataframe\">\n",
       "  <thead>\n",
       "    <tr style=\"text-align: right;\">\n",
       "      <th></th>\n",
       "      <th>instrumentalness</th>\n",
       "      <th>tempo</th>\n",
       "      <th>year</th>\n",
       "    </tr>\n",
       "  </thead>\n",
       "  <tbody>\n",
       "    <tr>\n",
       "      <th>instrumentalness</th>\n",
       "      <td>1.000000</td>\n",
       "      <td>0.035449</td>\n",
       "      <td>-0.055978</td>\n",
       "    </tr>\n",
       "    <tr>\n",
       "      <th>tempo</th>\n",
       "      <td>0.035449</td>\n",
       "      <td>1.000000</td>\n",
       "      <td>0.082748</td>\n",
       "    </tr>\n",
       "    <tr>\n",
       "      <th>year</th>\n",
       "      <td>-0.055978</td>\n",
       "      <td>0.082748</td>\n",
       "      <td>1.000000</td>\n",
       "    </tr>\n",
       "  </tbody>\n",
       "</table>\n",
       "</div>"
      ],
      "text/plain": [
       "                  instrumentalness     tempo      year\n",
       "instrumentalness          1.000000  0.035449 -0.055978\n",
       "tempo                     0.035449  1.000000  0.082748\n",
       "year                     -0.055978  0.082748  1.000000"
      ]
     },
     "execution_count": 52,
     "metadata": {},
     "output_type": "execute_result"
    }
   ],
   "source": [
    "instru_tempo_year = spotify_df[['instrumentalness', 'tempo', 'year']]\n",
    "corr = instru_tempo_year.corr()\n",
    "corr"
   ]
  },
  {
   "cell_type": "markdown",
   "id": "f3fcca76",
   "metadata": {},
   "source": [
    "#### Data Visualization"
   ]
  },
  {
   "cell_type": "code",
   "execution_count": 53,
   "id": "19c9664a",
   "metadata": {},
   "outputs": [
    {
     "data": {
      "text/plain": [
       "<Axes: >"
      ]
     },
     "execution_count": 53,
     "metadata": {},
     "output_type": "execute_result"
    },
    {
     "data": {
      "image/png": "[encoded data removed]",
      "text/plain": [
       "<Figure size 1200x1000 with 2 Axes>"
      ]
     },
     "metadata": {},
     "output_type": "display_data"
    }
   ],
   "source": [
    "# Heatmap Design\n",
    "f, ax = plt.subplots(figsize = (12, 10))\n",
    "mask = np.triu(np.ones_like(corr, dtype=bool))\n",
    "cmap = sb.diverging_palette(230, 20, as_cmap=True)\n",
    "\n",
    "sb.heatmap(corr, annot=True, cmap=cmap, mask=mask)"
   ]
  },
  {
   "cell_type": "markdown",
   "id": "c181d2b3",
   "metadata": {},
   "source": [
    "## Research Question"
   ]
  },
  {
   "cell_type": "markdown",
   "id": "1cd3d824",
   "metadata": {},
   "source": [
    "---\n",
    "### Can we cluster and determine when a song is/was released depending on the following variables: (1) duration, (2) instrumentalness, and (3) tempo?\n",
    "---"
   ]
  },
  {
   "cell_type": "markdown",
   "id": "8a578ff6",
   "metadata": {},
   "source": [
    "### Rationale for Research Question based on EDA"
   ]
  },
  {
   "cell_type": "markdown",
   "id": "c51cfff0",
   "metadata": {},
   "source": [
    "### Significance of Research Question"
   ]
  }
 ],
 "metadata": {
  "kernelspec": {
   "display_name": "Python 3 (ipykernel)",
   "language": "python",
   "name": "python3"
  },
  "language_info": {
   "codemirror_mode": {
    "name": "ipython",
    "version": 3
   },
   "file_extension": ".py",
   "mimetype": "text/x-python",
   "name": "python",
   "nbconvert_exporter": "python",
   "pygments_lexer": "ipython3",
   "version": "3.11.4"
  }
 },
 "nbformat": 4,
 "nbformat_minor": 5
}
