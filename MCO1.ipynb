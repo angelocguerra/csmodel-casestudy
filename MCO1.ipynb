{
 "cells": [
  {
   "cell_type": "markdown",
   "id": "4212d5d3",
   "metadata": {},
   "source": [
    "# CSMODEL Case Study - Phase 1\n",
    "\n",
    "### Members:\n",
    "- Angelo Guerra\n",
    "- Adrian Yung Cheng\n",
    "- Alina Sayo\n",
    "- Mark Daniel Gutierrez\n",
    "\n",
    "**Section**: S15\n",
    "\n",
    "**Instructor**: Mr. Gabriel Avelino Sampedro\n",
    "\n",
    "In this notebook, we will be using the **[Spotify Top Hits from 2000-2019](https://www.kaggle.com/datasets/paradisejoy/top-hits-spotify-from-20002019/data)** Dataset. The notebook will cover an analysis of the raw dataset and various processes to extract meaningful insights and conclusions from the data.\n"
   ]
  },
  {
   "cell_type": "markdown",
   "id": "2cb4517f",
   "metadata": {},
   "source": [
    "## Import\n",
    "\n",
    "First, import the necessary libraries to perform data operation throughout this notebook"
   ]
  },
  {
   "cell_type": "code",
   "execution_count": 3,
   "id": "4b190bdf",
   "metadata": {},
   "outputs": [],
   "source": [
    "# place import packages here"
   ]
  },
  {
   "cell_type": "markdown",
   "id": "2be73ffc",
   "metadata": {},
   "source": [
    "## Dataset Description\n",
    "\n",
    "### Brief Description"
   ]
  },
  {
   "cell_type": "markdown",
   "id": "070dfc8c",
   "metadata": {},
   "source": [
    "### Collection Process"
   ]
  },
  {
   "cell_type": "markdown",
   "id": "585f1fca",
   "metadata": {},
   "source": [
    "### Dataset File Structure"
   ]
  },
  {
   "cell_type": "markdown",
   "id": "c7960c8b",
   "metadata": {},
   "source": [
    "### Variables"
   ]
  },
  {
   "cell_type": "markdown",
   "id": "5eaa3d35",
   "metadata": {},
   "source": [
    "## Data Cleaning"
   ]
  },
  {
   "cell_type": "markdown",
   "id": "63110950",
   "metadata": {},
   "source": [
    "### Removing Unused Variables"
   ]
  },
  {
   "cell_type": "markdown",
   "id": "3fc2c879",
   "metadata": {},
   "source": [
    "### Check for Multiple Representations"
   ]
  },
  {
   "cell_type": "markdown",
   "id": "e0306f3b",
   "metadata": {},
   "source": [
    "### Check for Incorrect Datatypes"
   ]
  },
  {
   "cell_type": "markdown",
   "id": "0a768ffe",
   "metadata": {},
   "source": [
    "### Check for Default Values"
   ]
  },
  {
   "cell_type": "markdown",
   "id": "afcd37d3",
   "metadata": {},
   "source": [
    "### Check for Missing Data"
   ]
  },
  {
   "cell_type": "markdown",
   "id": "8877bd5b",
   "metadata": {},
   "source": [
    "### Check for Duplicate Data"
   ]
  },
  {
   "cell_type": "markdown",
   "id": "3120e15f",
   "metadata": {},
   "source": [
    "### Checking for Inconsistent Formatting"
   ]
  },
  {
   "cell_type": "markdown",
   "id": "7bb005c8",
   "metadata": {},
   "source": [
    "## Exploratory Data Analysis"
   ]
  },
  {
   "cell_type": "markdown",
   "id": "a67e548f",
   "metadata": {},
   "source": [
    "### Question 1:"
   ]
  },
  {
   "cell_type": "markdown",
   "id": "949850e2",
   "metadata": {},
   "source": [
    "#### Numerical Summaries"
   ]
  },
  {
   "cell_type": "markdown",
   "id": "6636fad9",
   "metadata": {},
   "source": [
    "#### Data Visualization"
   ]
  },
  {
   "cell_type": "markdown",
   "id": "6df30ee1",
   "metadata": {},
   "source": [
    "## Research Question"
   ]
  },
  {
   "cell_type": "markdown",
   "id": "255d8fa5",
   "metadata": {},
   "source": [
    "### Rationale for Research Question based on EDA"
   ]
  },
  {
   "cell_type": "markdown",
   "id": "e3008a7b",
   "metadata": {},
   "source": [
    "### Significance of Research Question"
   ]
  }
 ],
 "metadata": {
  "kernelspec": {
   "display_name": "Python 3 (ipykernel)",
   "language": "python",
   "name": "python3"
  },
  "language_info": {
   "codemirror_mode": {
    "name": "ipython",
    "version": 3
   },
   "file_extension": ".py",
   "mimetype": "text/x-python",
   "name": "python",
   "nbconvert_exporter": "python",
   "pygments_lexer": "ipython3",
   "version": "3.11.4"
  }
 },
 "nbformat": 4,
 "nbformat_minor": 5
}
