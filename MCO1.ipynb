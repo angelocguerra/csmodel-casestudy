{
 "cells": [
  {
   "cell_type": "markdown",
   "id": "3c1d6bb6",
   "metadata": {},
   "source": [
    "# CSMODEL Case Study - Phase 1\n",
    "\n",
    "### Members:\n",
    "- Angelo Guerra\n",
    "- Adrian Yung Cheng\n",
    "- Alina Sayo\n",
    "- Mark Daniel Gutierrez\n",
    "\n",
    "**Section**: S15\n",
    "\n",
    "**Instructor**: Mr. Gabriel Avelino Sampedro\n",
    "\n",
    "In this notebook, we will be using the **[Spotify Top Hits from 2000-2019](https://www.kaggle.com/datasets/paradisejoy/top-hits-spotify-from-20002019/data)** Dataset. The notebook will cover an analysis of the raw dataset and various processes to extract meaningful insights and conclusions from the data.\n"
   ]
  },
  {
   "cell_type": "markdown",
   "id": "0fc268ac",
   "metadata": {},
   "source": [
    "## Importing Libraries\n",
    "\n",
    "First, import the necessary libraries to perform data operation throughout this notebook:"
   ]
  },
  {
   "cell_type": "code",
   "execution_count": null,
   "id": "420f3c21",
   "metadata": {},
   "outputs": [],
   "source": [
    "import numpy as np\n",
    "import pandas as pd\n",
    "import seaborn as sb\n",
    "import matplotlib.pyplot as plt\n",
    "\n",
    "plt.style.use(\"seaborn-v0_8-darkgrid\")"
   ]
  },
  {
   "cell_type": "markdown",
   "id": "557e6c97",
   "metadata": {},
   "source": [
    "* **Numpy** - Numpy is a software library for Python designed for working with arrays and encompassing functions related to linear algebra, fourier transforms, and matrices.\n",
    "* **Pandas** - Pandas is a software library for Python designed for data manipulation and data analysis.\n",
    "*  **Matplotlib** - Matplotlib is a software library for data visualization for Python, allowing us to easily render various types of graphs.\n",
    "* **Seaborn** - Seaborn is a software library for data visualization for Python designed to create attractive and informative statistical graphics, making it easier to make complex visualizations compared to using Matplotlib alone."
   ]
  },
  {
   "cell_type": "markdown",
   "id": "60bdbf91",
   "metadata": {},
   "source": [
    "## Dataset Description\n",
    "\n",
    "### Brief Description\n",
    "\n",
    "The dataset used throughout this notebook consists of a `.csv` file containing audio statistics of the top 2000 tracks from 2000-2019 on Spotify, a global audio streaming service. The data contains information about each track and its qualities, including the song artist, year it was released, popularity rate, and various characteristics. The dataset takes advantage of Spotify's huge collection of music to create a useful resource which could help those who want to statistically assess and analyze the platform's top hits from the past two decades."
   ]
  },
  {
   "cell_type": "markdown",
   "id": "8f68b2ff",
   "metadata": {},
   "source": [
    "### Collection Process\n",
    "\n",
    "The dataset **[Top Hits Spotify 2000-2019](https://www.kaggle.com/datasets/paradisejoy/top-hits-spotify-from-20002019/data)** was collected from a popular digital music streaming service called Spotify and was posted on Kaggle by user Mark Koverha. This dataset draws from Spotify’s extensive music catalog to create a comprehensive resource. Spotify has created multiple playlists for the top hits of each year. The data was then extracted from these playlists and Koverha collected it using the `Spotipy` library for Python.\n",
    "\n",
    "Currently, Spotify provides a publicly available API. The Spotify Web API and the `Spotipy` Python library were utilized to gather track informaton to compile the dataset."
   ]
  },
  {
   "cell_type": "markdown",
   "id": "c658943e",
   "metadata": {},
   "source": [
    "### Dataset File Structure\n",
    "\n",
    "Each entry in the dataset is a top hit song released during the year 2000 until 2019. On the other hand, each column represents a single component of the song that would differentiate it from other entries, such as its artist, title, and many other aspects, with ten (10) specific variables to account for."
   ]
  },
  {
   "cell_type": "markdown",
   "id": "b919b04f",
   "metadata": {},
   "source": [
    "The `read_csv()` function of the pandas library, in this case, is used to assign the dataset to a properly-usable variable in Python. The `info()` function, on the other hand, is used to display the general information about the dataset itself."
   ]
  },
  {
   "cell_type": "code",
   "execution_count": null,
   "id": "4b547a5f",
   "metadata": {},
   "outputs": [],
   "source": [
    "spotify_df = pd.read_csv('songs_normalize.csv')\n",
    "spotify_df.info()"
   ]
  },
  {
   "cell_type": "markdown",
   "id": "1cef4c41",
   "metadata": {},
   "source": [
    "// add post interpretation on df.info\n",
    "// add function explanation on shape"
   ]
  },
  {
   "cell_type": "code",
   "execution_count": null,
   "id": "f6240ccf",
   "metadata": {},
   "outputs": [],
   "source": [
    "spotify_df.shape"
   ]
  },
  {
   "cell_type": "markdown",
   "id": "03df8a35",
   "metadata": {},
   "source": [
    "// add post interpretation on shape TODO\n",
    "\n",
    "We can then use the `describe()` function to provide a statistical description of the dataset and its variables containing numerical data, which includes the mean, count, standard deviation, and many more."
   ]
  },
  {
   "cell_type": "code",
   "execution_count": null,
   "id": "85ff6c1d",
   "metadata": {},
   "outputs": [],
   "source": [
    "spotify_df.describe()"
   ]
  },
  {
   "cell_type": "markdown",
   "id": "a52ba8ae",
   "metadata": {},
   "source": [
    "By calling the `head()` function of the pandas library, the program will now display the first 5 rows/entries of the dataset. "
   ]
  },
  {
   "cell_type": "code",
   "execution_count": null,
   "id": "89c5f2a8",
   "metadata": {},
   "outputs": [],
   "source": [
    "spotify_df.head()"
   ]
  },
  {
   "cell_type": "markdown",
   "id": "f8308eeb",
   "metadata": {},
   "source": [
    "To display the last 5 rows of the dataset, the `tail()` function will be used."
   ]
  },
  {
   "cell_type": "code",
   "execution_count": null,
   "id": "d9992879",
   "metadata": {},
   "outputs": [],
   "source": [
    "spotify_df.tail()"
   ]
  },
  {
   "cell_type": "markdown",
   "id": "e20c0388",
   "metadata": {},
   "source": [
    "### Variables\n",
    "\n",
    "Each variable included in the dataset is a generalized form of specifying the different entries of the dataset in a substantial manner. The following are the variables used:\n",
    "\n",
    "| Variable         | Description | Datatype |\n",
    "|------------------|-------------|----------|\n",
    "| Artist           | The track’s singer and writer.        | Object  |\n",
    "| Title            | The track’s title.                    | Object  |\n",
    "| Duration_ms      | The track’s duration is milliseconds. | Integer |\n",
    "| Explicit         | Dictates whether or not the track contains explicit content or not. | Boolean     |\n",
    "| Year             | The track’s release year.             | Integer |\n",
    "| Popularity       | A measure that visualizes the popularity of the song. Ranges from 0 (least popular) to 100 (most popular). | Integer |\n",
    "| Danceability     | A measure that represents the measure of a song’s beat strength, stability, and tempo. Ranges from 0 (least danceable) to 1 (most danceable). | Float |\n",
    "| Energy           | A measure of the track’s intensity and activity. Ranges from 0 (least energy) to 1 (most energy). | Float |\n",
    "| Key              | The music key of the track, represented as integers using standard Pitch Class notation. | Integer |\n",
    "| Loudness         | A measure of the overall loudness of the track in decibels (dB), averaged across the entire track. | Float |\n",
    "| Mode             | Indicates whether the track is in a major (1) or minor (0) key. | Integer |\n",
    "| Speechiness      | Measures the presence of spoken words in the track, with values closer to 1.0 indicating more speech content. While values closer to 0.0 most likely represent music and other non-speech-like tracks. | Float |\n",
    "| Acousticness     | A confidence measure of whether the track is acoustic, with 1.0 representing high confidence that the track is acoustic. | Float |\n",
    "| Instrumentalness | Predicts whether the track contains vocals, with values closer to 1.0 indicating a higher likelihood of no vocal content. | Float |\n",
    "| Liveness         | Detects the presence of an audience in the recording, with higher values suggesting a live performance. | Float |\n",
    "| Valence          | A measure describing the music positiveness of the track, ranging from 0.0 (negative) to 1.0 (positive). Where tracks with high valence sound more positive and tracks with low valence sound more negative. | Float |\n",
    "| Tempo            | The estimated tempo of the track in beats per minute (BPM). | Float |\n",
    "| Genre            | The genre of the track.                | Object |"
   ]
  },
  {
   "cell_type": "markdown",
   "id": "184749c8",
   "metadata": {},
   "source": [
    "## Data Cleaning"
   ]
  },
  {
   "cell_type": "markdown",
   "id": "20cf4ffe",
   "metadata": {},
   "source": [
    "### Removing Unused Variables"
   ]
  },
  {
   "cell_type": "markdown",
   "id": "bdd6c41e",
   "metadata": {},
   "source": [
    "// place shit here TODO\n",
    "\n",
    "// drop function"
   ]
  },
  {
   "cell_type": "code",
   "execution_count": null,
   "id": "878283cd",
   "metadata": {},
   "outputs": [],
   "source": [
    "spotify_df = spotify_df.drop(['explicit', 'danceability', 'key', 'loudness', 'mode', 'speechiness', 'acousticness', 'liveness', 'valence', 'genre'], axis = 1)\n",
    "spotify_df.info()"
   ]
  },
  {
   "cell_type": "markdown",
   "id": "a6e0d522",
   "metadata": {},
   "source": [
    "### Check for Multiple Representations"
   ]
  },
  {
   "cell_type": "markdown",
   "id": "b06f3e5e",
   "metadata": {},
   "source": [
    "To check whether or not the dataset contains multiple representations of values per variable, we can call the `unique()` function of the pandas library."
   ]
  },
  {
   "cell_type": "code",
   "execution_count": null,
   "id": "1d5cda94",
   "metadata": {},
   "outputs": [],
   "source": [
    "for col in spotify_df:\n",
    "    print(\"'{}' column's unique values:\\n\".format(col), spotify_df[col].unique())\n",
    "    print(\"\")"
   ]
  },
  {
   "cell_type": "markdown",
   "id": "0d0b8876",
   "metadata": {},
   "source": [
    "According to the results displayed by the function, all unique values within each of the variables of the dataset fit its valid parameters. "
   ]
  },
  {
   "cell_type": "markdown",
   "id": "56448700",
   "metadata": {},
   "source": [
    "### Check for Incorrect Datatypes"
   ]
  },
  {
   "cell_type": "markdown",
   "id": "2af849ac",
   "metadata": {},
   "source": [
    "// place shit here TODO"
   ]
  },
  {
   "cell_type": "code",
   "execution_count": null,
   "id": "2f3fdb67",
   "metadata": {},
   "outputs": [],
   "source": [
    "spotify_df.info()"
   ]
  },
  {
   "cell_type": "markdown",
   "id": "998333ec",
   "metadata": {},
   "source": [
    "Based on the datatypes displayed by the dataset, all of the variables have the proper corresponding datatype assigned to them."
   ]
  },
  {
   "cell_type": "markdown",
   "id": "c7de4434",
   "metadata": {},
   "source": [
    "### Check for Default Values"
   ]
  },
  {
   "cell_type": "markdown",
   "id": "873f0b3f",
   "metadata": {},
   "source": [
    "// place shit here TODO"
   ]
  },
  {
   "cell_type": "code",
   "execution_count": null,
   "id": "6acc59e8",
   "metadata": {},
   "outputs": [],
   "source": [
    "for col in spotify_df:\n",
    "    print(\"'{}' column's unique values:\\n\".format(col), spotify_df[col].unique())\n",
    "    print(\"\")"
   ]
  },
  {
   "cell_type": "markdown",
   "id": "ba002a24",
   "metadata": {},
   "source": [
    "According to the results provided by the function, only the year variable contained data that did not fit its parameters (years from 2000 to 2019 only)."
   ]
  },
  {
   "cell_type": "code",
   "execution_count": null,
   "metadata": {},
   "outputs": [],
   "source": [
    "spotify_df = spotify_df[(spotify_df['year'] >= 2000) & (spotify_df['year'] <= 2019)]\n",
    "spotify_df.info()"
   ]
  },
  {
   "cell_type": "code",
   "execution_count": null,
   "id": "1a1005a7",
   "metadata": {},
   "outputs": [],
   "source": [
    "spotify_df.shape"
   ]
  },
  {
   "cell_type": "markdown",
   "metadata": {},
   "source": [
    "After dropping the invalid records, calling the shape of the newly-updated dataset displayed only `1958 remaining entries`. This meant that out of the initial 2000 entries of the dataset, there were `42 invalid entries` removed."
   ]
  },
  {
   "cell_type": "markdown",
   "id": "58386ecf",
   "metadata": {},
   "source": [
    "### Check for Missing Data"
   ]
  },
  {
   "cell_type": "markdown",
   "id": "a68c3c7a",
   "metadata": {},
   "source": [
    "To check for missing data within the dataset, we can use the `isnull()` function if there exists null values per variable."
   ]
  },
  {
   "cell_type": "code",
   "execution_count": null,
   "id": "5962044a",
   "metadata": {},
   "outputs": [],
   "source": [
    "spotify_df.isnull().any()"
   ]
  },
  {
   "cell_type": "markdown",
   "id": "7c1e2900",
   "metadata": {},
   "source": [
    "Based on the results provided by the function, all of the variables does not contain any null values."
   ]
  },
  {
   "cell_type": "markdown",
   "id": "fd330eec",
   "metadata": {},
   "source": [
    "### Check for Duplicate Data"
   ]
  },
  {
   "cell_type": "markdown",
   "id": "0f6a40f6",
   "metadata": {},
   "source": [
    "To check for duplicated data within the dataset, we can use the `duplicated()` function to identify whether or not there are duplicate records."
   ]
  },
  {
   "cell_type": "code",
   "execution_count": null,
   "id": "af26adef",
   "metadata": {},
   "outputs": [],
   "source": [
    "spotify_df.duplicated().any()"
   ]
  },
  {
   "cell_type": "markdown",
   "id": "17b0975e",
   "metadata": {},
   "source": [
    "Based on the provided result of the function, we can classify the dataset to contain duplicate records. We can use the `drop_duplicates` function to remove these records."
   ]
  },
  {
   "cell_type": "code",
   "execution_count": null,
   "id": "f25498c0",
   "metadata": {},
   "outputs": [],
   "source": [
    "spotify_df = spotify_df.drop_duplicates()"
   ]
  },
  {
   "cell_type": "code",
   "execution_count": null,
   "id": "deee33cb",
   "metadata": {},
   "outputs": [],
   "source": [
    "spotify_df.shape"
   ]
  },
  {
   "cell_type": "markdown",
   "id": "a705c767",
   "metadata": {},
   "source": [
    "The new dataset that does not contain duplicate records now contain `1899 unique records`. This meant that there were `59 duplicate records` present in the initial dataset."
   ]
  },
  {
   "cell_type": "markdown",
   "id": "7a9edaa2",
   "metadata": {},
   "source": [
    "### Checking for Inconsistent Formatting"
   ]
  },
  {
   "cell_type": "markdown",
   "id": "079deb69",
   "metadata": {},
   "source": [
    "// place shit here TODO"
   ]
  },
  {
   "cell_type": "code",
   "execution_count": null,
   "id": "acb23dd6",
   "metadata": {},
   "outputs": [],
   "source": [
    "for col in spotify_df:\n",
    "    print(\"'{}' column's unique values:\\n\".format(col), spotify_df[col].unique())\n",
    "    print(\"\")"
   ]
  },
  {
   "cell_type": "markdown",
   "id": "edb4bb95",
   "metadata": {},
   "source": [
    "Upon checking the results, the dataset seems to not contain any inconsistencies in its formatting."
   ]
  },
  {
   "cell_type": "markdown",
   "id": "bafcb7c4",
   "metadata": {},
   "source": [
    "## Exploratory Data Analysis"
   ]
  },
  {
   "cell_type": "markdown",
   "id": "f3d08fc2",
   "metadata": {},
   "source": [
    "1. What is the distribution of songs according to release year?\n",
    "\n",
    "2. What is the distribution of songs according to duration?\n",
    "\n",
    "3. What is the distribution of the songs according to their level of instrumentalness?\n",
    "\n",
    "4. What is the distribution of the songs according to their level of tempo?\n",
    "\n",
    "5. What is the relationships between duration, instrumentalness, and tempo with the release year?"
   ]
  },
  {
   "cell_type": "markdown",
   "id": "4a5058dd",
   "metadata": {},
   "source": [
    "### Question 1: What is the distribution of top hits according to release year?\n",
    "\n",
    "// What variables will be used?\n",
    "\n"
   ]
  },
  {
   "cell_type": "markdown",
   "id": "178cc27a",
   "metadata": {},
   "source": [
    "#### Numerical Summaries\n",
    "\n",
    "// write me"
   ]
  },
  {
   "cell_type": "code",
   "execution_count": null,
   "metadata": {},
   "outputs": [],
   "source": [
    "spotify_df.groupby('year').agg({'song': ['count']})"
   ]
  },
  {
   "cell_type": "markdown",
   "id": "621789e0",
   "metadata": {},
   "source": [
    "#### Data Visualization"
   ]
  },
  {
   "cell_type": "markdown",
   "metadata": {},
   "source": [
    "*Bar Plot*\n",
    "\n",
    "// write me"
   ]
  },
  {
   "cell_type": "code",
   "execution_count": null,
   "metadata": {},
   "outputs": [],
   "source": [
    "# bar plot of the number of songs per year\n",
    "plt.bar(spotify_df.groupby('year').agg({'song': ['count']}).index, spotify_df.groupby('year').agg({'song': ['count']})['song']['count'], color = 'pink')\n",
    "\n",
    "# add labels\n",
    "plt.title('Number of Top Hit Songs per Year')\n",
    "plt.xlabel('Release Year')\n",
    "plt.ylabel('Number of Top Hits')\n",
    "plt.xticks(np.arange(2000, 2020, 2), rotation = 50)\n",
    "\n",
    "plt.show()\n"
   ]
  },
  {
   "cell_type": "markdown",
   "metadata": {},
   "source": [
    "// post interpretation"
   ]
  },
  {
   "cell_type": "markdown",
   "metadata": {},
   "source": [
    "### Question 2: What is the average duration of top hits per year and \n",
    "\n",
    "// write me"
   ]
  },
  {
   "cell_type": "markdown",
   "id": "73d0971e",
   "metadata": {},
   "source": [
    "#### Numerical Summaries\n",
    "\n",
    "// mean of duration per year"
   ]
  },
  {
   "cell_type": "code",
   "execution_count": null,
   "metadata": {},
   "outputs": [],
   "source": [
    "# define ms_to_min_sec function\n",
    "def ms_to_min_sec(ms):\n",
    "    minutes = int(ms / 60000)\n",
    "    seconds = int((ms % 60000) / 1000)\n",
    "    return str(minutes) + \":\" + str(seconds)\n",
    "\n",
    "# Organizing a dataframe with the average duration of the top hits from the analyzed period\n",
    "average_duration = spotify_df[['duration_ms','year']].groupby('year').mean().reset_index()\n",
    "average_duration['min:sec'] = average_duration['duration_ms'].apply(ms_to_min_sec)\n",
    "average_duration[['year','min:sec']]\n",
    "\n",
    "# mean of duration per year \n",
    "spotify_df['min:sec'] = spotify_df['duration_ms'].apply(ms_to_min_sec)\n",
    "\n",
    "# show\n",
    "spotify_df"
   ]
  },
  {
   "cell_type": "markdown",
   "metadata": {},
   "source": [
    "// post interpretation"
   ]
  },
  {
   "cell_type": "markdown",
   "id": "741709ec",
   "metadata": {},
   "source": [
    "#### Data Visualization"
   ]
  },
  {
   "cell_type": "markdown",
   "metadata": {},
   "source": [
    "*Scatterplot*\n",
    "\n",
    "write me"
   ]
  },
  {
   "cell_type": "markdown",
   "metadata": {},
   "source": [
    "// post interpretation"
   ]
  },
  {
   "cell_type": "markdown",
   "id": "d85dd1a9",
   "metadata": {},
   "source": [
    "### Question 3: What is the distribution of the songs according to their level of instrumentalness?\n",
    "\n",
    "// write me"
   ]
  },
  {
   "cell_type": "markdown",
   "id": "11d78073",
   "metadata": {},
   "source": [
    "#### Numerical Summaries\n",
    "\n",
    "// mean median std"
   ]
  },
  {
   "cell_type": "code",
   "execution_count": null,
   "metadata": {},
   "outputs": [],
   "source": []
  },
  {
   "cell_type": "markdown",
   "metadata": {},
   "source": [
    "post interpretation"
   ]
  },
  {
   "cell_type": "markdown",
   "id": "94ae7a74",
   "metadata": {},
   "source": [
    "#### Data Visualization"
   ]
  },
  {
   "cell_type": "markdown",
   "metadata": {},
   "source": [
    "*Histogram*\n",
    "\n",
    "write me"
   ]
  },
  {
   "cell_type": "markdown",
   "metadata": {},
   "source": []
  },
  {
   "cell_type": "markdown",
   "metadata": {},
   "source": [
    "### Question 4: What is the distribution of the songs according to their level of tempo?"
   ]
  },
  {
   "cell_type": "markdown",
   "metadata": {},
   "source": [
    "#### Numerical Summaries\n",
    "\n",
    "// write me"
   ]
  },
  {
   "cell_type": "markdown",
   "metadata": {},
   "source": [
    "#### Data Visualization"
   ]
  },
  {
   "cell_type": "markdown",
   "id": "d5513aac",
   "metadata": {},
   "source": [
    "*Histogram*\n",
    "\n",
    "// write me"
   ]
  },
  {
   "cell_type": "code",
   "execution_count": null,
   "id": "4b114ade",
   "metadata": {},
   "outputs": [],
   "source": []
  },
  {
   "cell_type": "markdown",
   "id": "58e15bd4",
   "metadata": {},
   "source": [
    "post interpretation"
   ]
  },
  {
   "cell_type": "markdown",
   "metadata": {},
   "source": [
    "### Question 5: What is the relationships between instrumentalness and tempo with the release year?"
   ]
  },
  {
   "cell_type": "markdown",
   "metadata": {},
   "source": [
    "#### Numerical Summaries"
   ]
  },
  {
   "cell_type": "markdown",
   "metadata": {},
   "source": [
    "#### Data Visualization"
   ]
  },
  {
   "cell_type": "markdown",
   "id": "c181d2b3",
   "metadata": {},
   "source": [
    "## Research Question"
   ]
  },
  {
   "cell_type": "markdown",
   "id": "1cd3d824",
   "metadata": {},
   "source": [
    "---\n",
    "### Can we cluster and determine when a song is/was released depending on the following variables: (1) duration, (2) instrumentalness, and (3) tempo?\n",
    "---"
   ]
  },
  {
   "cell_type": "markdown",
   "id": "8a578ff6",
   "metadata": {},
   "source": [
    "### Rationale for Research Question based on EDA"
   ]
  },
  {
   "cell_type": "markdown",
   "id": "c51cfff0",
   "metadata": {},
   "source": [
    "### Significance of Research Question"
   ]
  }
 ],
 "metadata": {
  "kernelspec": {
   "display_name": "Python 3 (ipykernel)",
   "language": "python",
   "name": "python3"
  },
  "language_info": {
   "codemirror_mode": {
    "name": "ipython",
    "version": 3
   },
   "file_extension": ".py",
   "mimetype": "text/x-python",
   "name": "python",
   "nbconvert_exporter": "python",
   "pygments_lexer": "ipython3",
   "version": "3.11.5"
  }
 },
 "nbformat": 4,
 "nbformat_minor": 5
}
